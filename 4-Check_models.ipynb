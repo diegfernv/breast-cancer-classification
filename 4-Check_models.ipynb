{
 "cells": [
  {
   "cell_type": "code",
   "execution_count": 1,
   "id": "39fdaebe-1004-4267-ab8b-7ac2e1b8fdb2",
   "metadata": {},
   "outputs": [],
   "source": [
    "import pandas as pd\n",
    "from joblib import load\n",
    "import numpy as np\n",
    "\n",
    "from sklearn.metrics import accuracy_score, recall_score, precision_score, f1_score, matthews_corrcoef, confusion_matrix\n"
   ]
  },
  {
   "cell_type": "code",
   "execution_count": 80,
   "id": "cc43ac68-44a0-4356-84ea-f4fa63d21ebd",
   "metadata": {},
   "outputs": [],
   "source": [
    "class Models\n",
    "    def __init__(self, scaler)\n",
    "        scaler_instance = load(\"results/scaler.joblib\")\n",
    "    \n",
    "    def get_metrics(self, y_pred, y_true):\n",
    "        acc_value = accuracy_score(y_pred=y_pred, y_true=y_true) \n",
    "        recall_value = recall_score(y_pred=y_pred, y_true=y_true)\n",
    "        precision_value = precision_score(y_pred=y_pred, y_true=y_true) \n",
    "        f1_value = f1_score(y_pred=y_pred, y_true=y_true)\n",
    "        mcc_value = matthews_corrcoef(y_pred=y_pred, y_true=y_true)\n",
    "        cm = confusion_matrix(y_pred=y_pred, y_true=y_true)\n",
    "    \n",
    "        return [acc_value, recall_value, precision_value, f1_value, mcc_value, cm]\n"
   ]
  },
  {
   "cell_type": "code",
   "execution_count": 90,
   "id": "74604699-72b4-4bee-b6d2-a21e1540a105",
   "metadata": {},
   "outputs": [],
   "source": [
    "scalers = [\"std\", \"minmax\", \"robust\"]\n",
    "models = []"
   ]
  },
  {
   "cell_type": "code",
   "execution_count": 86,
   "id": "ba81d339-7f4a-4773-8c0f-ec01232ef26b",
   "metadata": {},
   "outputs": [],
   "source": [
    "scaler_instance = load(\"results/scaler.joblib\")\n",
    "knn_model = load(\"results/knn_model.joblib\")\n",
    "rf_model = load(\"results/rf_model.joblib\")\n",
    "svm_model = load(\"results/svm_model.joblib\")\n",
    "dt_model = load(\"results/dt_model.joblib\")\n",
    "sgdc_model = load(\"results/sgdc_model.joblib\")\n",
    "ada_model = load(\"results/ada_model.joblib\")"
   ]
  },
  {
   "cell_type": "code",
   "execution_count": 25,
   "id": "f0ea6473-bd6c-4d13-ad2f-cef6b12fe5a1",
   "metadata": {},
   "outputs": [],
   "source": [
    "val_data = pd.read_csv(\"data_separated/val_data.csv\")\n",
    "test_data = pd.read_csv(\"data_separated/test_data.csv\")\n",
    "\n",
    "y_val = pd.read_csv(\"data_separated/y_val.csv\")\n",
    "y_test = pd.read_csv(\"data_separated/y_test.csv\")"
   ]
  },
  {
   "cell_type": "code",
   "execution_count": 26,
   "id": "8b152356-afbb-4929-8225-6fbefbdbde99",
   "metadata": {},
   "outputs": [],
   "source": [
    "val_data_scaler = scaler_instance.transform(val_data.values)\n",
    "test_data_scaler = scaler_instance.transform(test_data.values)"
   ]
  },
  {
   "cell_type": "code",
   "execution_count": 33,
   "id": "64a61555-e713-4764-adf9-eda9362dcf91",
   "metadata": {},
   "outputs": [
    {
     "name": "stderr",
     "output_type": "stream",
     "text": [
      "/home/diegof/miniconda3/envs/pandas-env/lib/python3.12/site-packages/sklearn/base.py:493: UserWarning: X does not have valid feature names, but KNeighborsClassifier was fitted with feature names\n",
      "  warnings.warn(\n",
      "/home/diegof/miniconda3/envs/pandas-env/lib/python3.12/site-packages/sklearn/base.py:493: UserWarning: X does not have valid feature names, but KNeighborsClassifier was fitted with feature names\n",
      "  warnings.warn(\n"
     ]
    }
   ],
   "source": [
    "predict_val_knn = knn_model.predict(X=val_data_scaler)\n",
    "predict_test_knn = knn_model.predict(X=test_data_scaler)"
   ]
  },
  {
   "cell_type": "code",
   "execution_count": 31,
   "id": "fdb15c8c-3008-47c9-99ea-dec6dd7c49c0",
   "metadata": {},
   "outputs": [
    {
     "name": "stderr",
     "output_type": "stream",
     "text": [
      "/home/diegof/miniconda3/envs/pandas-env/lib/python3.12/site-packages/sklearn/base.py:493: UserWarning: X does not have valid feature names, but RandomForestClassifier was fitted with feature names\n",
      "  warnings.warn(\n",
      "/home/diegof/miniconda3/envs/pandas-env/lib/python3.12/site-packages/sklearn/base.py:493: UserWarning: X does not have valid feature names, but RandomForestClassifier was fitted with feature names\n",
      "  warnings.warn(\n"
     ]
    }
   ],
   "source": [
    "predict_val_rf = rf_model.predict(X=val_data_scaler)\n",
    "predict_test_rf = rf_model.predict(X=test_data_scaler)"
   ]
  },
  {
   "cell_type": "code",
   "execution_count": 36,
   "id": "62d3cacc-cf20-497c-ae17-87653ea0b469",
   "metadata": {},
   "outputs": [
    {
     "name": "stderr",
     "output_type": "stream",
     "text": [
      "/home/diegof/miniconda3/envs/pandas-env/lib/python3.12/site-packages/sklearn/base.py:493: UserWarning: X does not have valid feature names, but SVC was fitted with feature names\n",
      "  warnings.warn(\n",
      "/home/diegof/miniconda3/envs/pandas-env/lib/python3.12/site-packages/sklearn/base.py:493: UserWarning: X does not have valid feature names, but SVC was fitted with feature names\n",
      "  warnings.warn(\n"
     ]
    }
   ],
   "source": [
    "predict_val_svm = svm_model.predict(X=val_data_scaler)\n",
    "predict_test_svm = svm_model.predict(X=test_data_scaler)"
   ]
  },
  {
   "cell_type": "code",
   "execution_count": 37,
   "id": "cd6dc4ea-4c01-4de0-a4e9-79f4c48fd83c",
   "metadata": {},
   "outputs": [
    {
     "name": "stderr",
     "output_type": "stream",
     "text": [
      "/home/diegof/miniconda3/envs/pandas-env/lib/python3.12/site-packages/sklearn/base.py:493: UserWarning: X does not have valid feature names, but DecisionTreeClassifier was fitted with feature names\n",
      "  warnings.warn(\n",
      "/home/diegof/miniconda3/envs/pandas-env/lib/python3.12/site-packages/sklearn/base.py:493: UserWarning: X does not have valid feature names, but DecisionTreeClassifier was fitted with feature names\n",
      "  warnings.warn(\n"
     ]
    }
   ],
   "source": [
    "predict_val_dt = dt_model.predict(X=val_data_scaler)\n",
    "predict_test_dt = dt_model.predict(X=test_data_scaler)"
   ]
  },
  {
   "cell_type": "code",
   "execution_count": 38,
   "id": "5e56afc2-175e-4f09-a5bb-08d912429401",
   "metadata": {},
   "outputs": [
    {
     "name": "stderr",
     "output_type": "stream",
     "text": [
      "/home/diegof/miniconda3/envs/pandas-env/lib/python3.12/site-packages/sklearn/base.py:493: UserWarning: X does not have valid feature names, but SGDClassifier was fitted with feature names\n",
      "  warnings.warn(\n",
      "/home/diegof/miniconda3/envs/pandas-env/lib/python3.12/site-packages/sklearn/base.py:493: UserWarning: X does not have valid feature names, but SGDClassifier was fitted with feature names\n",
      "  warnings.warn(\n"
     ]
    }
   ],
   "source": [
    "predict_val_sgdc = sgdc_model.predict(X=val_data_scaler)\n",
    "predict_test_sgdc = sgdc_model.predict(X=test_data_scaler)"
   ]
  },
  {
   "cell_type": "code",
   "execution_count": 87,
   "id": "1d1a71b9-6748-4982-9990-95f957be3d91",
   "metadata": {},
   "outputs": [
    {
     "name": "stderr",
     "output_type": "stream",
     "text": [
      "/home/diegof/miniconda3/envs/pandas-env/lib/python3.12/site-packages/sklearn/base.py:493: UserWarning: X does not have valid feature names, but AdaBoostClassifier was fitted with feature names\n",
      "  warnings.warn(\n",
      "/home/diegof/miniconda3/envs/pandas-env/lib/python3.12/site-packages/sklearn/base.py:493: UserWarning: X does not have valid feature names, but AdaBoostClassifier was fitted with feature names\n",
      "  warnings.warn(\n"
     ]
    }
   ],
   "source": [
    "predict_val_ada = ada_model.predict(X=val_data_scaler)\n",
    "predict_test_ada = ada_model.predict(X=test_data_scaler)"
   ]
  },
  {
   "cell_type": "code",
   "execution_count": 46,
   "id": "33027166-4e66-4c28-b189-18f237fe137e",
   "metadata": {},
   "outputs": [
    {
     "data": {
      "text/plain": [
       "[0.6285714285714286,\n",
       " np.float64(0.6555555555555556),\n",
       " np.float64(0.6344086021505376),\n",
       " np.float64(0.644808743169399),\n",
       " np.float64(0.25595737271495583),\n",
       " array([[51, 34],\n",
       "        [31, 59]])]"
      ]
     },
     "execution_count": 46,
     "metadata": {},
     "output_type": "execute_result"
    }
   ],
   "source": [
    "get_metrics(predict_val_knn, y_val)"
   ]
  },
  {
   "cell_type": "code",
   "execution_count": 49,
   "id": "a505d8c4-a9f8-48ee-9763-424cd0730f0c",
   "metadata": {},
   "outputs": [
    {
     "data": {
      "text/plain": [
       "[0.6804123711340206,\n",
       " np.float64(0.7567567567567568),\n",
       " np.float64(0.56),\n",
       " np.float64(0.6436781609195402),\n",
       " np.float64(0.37914686876298165),\n",
       " array([[38, 22],\n",
       "        [ 9, 28]])]"
      ]
     },
     "execution_count": 49,
     "metadata": {},
     "output_type": "execute_result"
    }
   ],
   "source": [
    "get_metrics(predict_test_knn, y_test)"
   ]
  },
  {
   "cell_type": "code",
   "execution_count": 48,
   "id": "915b191f-17a1-4c31-b560-5b8d2f2b6d48",
   "metadata": {},
   "outputs": [
    {
     "data": {
      "text/plain": [
       "[0.7942857142857143,\n",
       " np.float64(0.8111111111111111),\n",
       " np.float64(0.7934782608695652),\n",
       " np.float64(0.8021978021978022),\n",
       " np.float64(0.5881200948904004),\n",
       " array([[66, 19],\n",
       "        [17, 73]])]"
      ]
     },
     "execution_count": 48,
     "metadata": {},
     "output_type": "execute_result"
    }
   ],
   "source": [
    "get_metrics(predict_val_rf, y_val)"
   ]
  },
  {
   "cell_type": "code",
   "execution_count": 50,
   "id": "c2dcb613-23c2-4288-9eed-7d4e73ecef9e",
   "metadata": {},
   "outputs": [
    {
     "data": {
      "text/plain": [
       "[0.7525773195876289,\n",
       " np.float64(0.8378378378378378),\n",
       " np.float64(0.6326530612244898),\n",
       " np.float64(0.7209302325581395),\n",
       " np.float64(0.522527534988099),\n",
       " array([[42, 18],\n",
       "        [ 6, 31]])]"
      ]
     },
     "execution_count": 50,
     "metadata": {},
     "output_type": "execute_result"
    }
   ],
   "source": [
    "get_metrics(predict_test_rf, y_test)"
   ]
  },
  {
   "cell_type": "code",
   "execution_count": 81,
   "id": "07f3c493-6b96-4077-84ee-8c575d152e35",
   "metadata": {},
   "outputs": [
    {
     "data": {
      "text/plain": [
       "[0.6285714285714286,\n",
       " np.float64(0.6555555555555556),\n",
       " np.float64(0.6344086021505376),\n",
       " np.float64(0.644808743169399),\n",
       " np.float64(0.25595737271495583),\n",
       " array([[51, 34],\n",
       "        [31, 59]])]"
      ]
     },
     "execution_count": 81,
     "metadata": {},
     "output_type": "execute_result"
    }
   ],
   "source": [
    "get_metrics(predict_val_knn, y_val)"
   ]
  },
  {
   "cell_type": "code",
   "execution_count": 51,
   "id": "89a82b03-01b0-45da-aad0-fba51f5a14ae",
   "metadata": {},
   "outputs": [
    {
     "data": {
      "text/plain": [
       "[0.6804123711340206,\n",
       " np.float64(0.7567567567567568),\n",
       " np.float64(0.56),\n",
       " np.float64(0.6436781609195402),\n",
       " np.float64(0.37914686876298165),\n",
       " array([[38, 22],\n",
       "        [ 9, 28]])]"
      ]
     },
     "execution_count": 51,
     "metadata": {},
     "output_type": "execute_result"
    }
   ],
   "source": [
    "get_metrics(predict_test_knn, y_test)"
   ]
  },
  {
   "cell_type": "code",
   "execution_count": 52,
   "id": "ff7202e5-5852-4a9f-85c0-c00eb5c9236c",
   "metadata": {},
   "outputs": [
    {
     "data": {
      "text/plain": [
       "[0.7371428571428571,\n",
       " np.float64(0.7333333333333333),\n",
       " np.float64(0.75),\n",
       " np.float64(0.7415730337078652),\n",
       " np.float64(0.4743238310341898),\n",
       " array([[63, 22],\n",
       "        [24, 66]])]"
      ]
     },
     "execution_count": 52,
     "metadata": {},
     "output_type": "execute_result"
    }
   ],
   "source": [
    "get_metrics(predict_val_dt, y_val)"
   ]
  },
  {
   "cell_type": "code",
   "execution_count": 83,
   "id": "ac2f000d-c8d7-40c3-a07a-038cc8ef0c29",
   "metadata": {},
   "outputs": [
    {
     "data": {
      "text/plain": [
       "[0.7422680412371134,\n",
       " np.float64(0.7027027027027027),\n",
       " np.float64(0.65),\n",
       " np.float64(0.6753246753246753),\n",
       " np.float64(0.4631522820327474),\n",
       " array([[46, 14],\n",
       "        [11, 26]])]"
      ]
     },
     "execution_count": 83,
     "metadata": {},
     "output_type": "execute_result"
    }
   ],
   "source": [
    "get_metrics(predict_test_dt, y_test)"
   ]
  },
  {
   "cell_type": "code",
   "execution_count": 84,
   "id": "9f9ebb62-cb7c-4217-8068-794fb2869b92",
   "metadata": {},
   "outputs": [
    {
     "data": {
      "text/plain": [
       "[0.7771428571428571,\n",
       " np.float64(0.7555555555555555),\n",
       " np.float64(0.8),\n",
       " np.float64(0.7771428571428571),\n",
       " np.float64(0.5555555555555556),\n",
       " array([[68, 17],\n",
       "        [22, 68]])]"
      ]
     },
     "execution_count": 84,
     "metadata": {},
     "output_type": "execute_result"
    }
   ],
   "source": [
    "get_metrics(predict_val_sgdc, y_val)"
   ]
  },
  {
   "cell_type": "code",
   "execution_count": 85,
   "id": "299fda87-3166-4f9c-b470-95cc7526900d",
   "metadata": {},
   "outputs": [
    {
     "data": {
      "text/plain": [
       "[0.7010309278350515,\n",
       " np.float64(0.6216216216216216),\n",
       " np.float64(0.6052631578947368),\n",
       " np.float64(0.6133333333333333),\n",
       " np.float64(0.36979382702249364),\n",
       " array([[45, 15],\n",
       "        [14, 23]])]"
      ]
     },
     "execution_count": 85,
     "metadata": {},
     "output_type": "execute_result"
    }
   ],
   "source": [
    "get_metrics(predict_test_sgdc, y_test)"
   ]
  },
  {
   "cell_type": "code",
   "execution_count": 89,
   "id": "aabef778-cd14-472d-b313-677e5e789be0",
   "metadata": {},
   "outputs": [
    {
     "data": {
      "text/plain": [
       "[0.8228571428571428,\n",
       " np.float64(0.8222222222222222),\n",
       " np.float64(0.8314606741573034),\n",
       " np.float64(0.8268156424581006),\n",
       " np.float64(0.645582876206969),\n",
       " array([[70, 15],\n",
       "        [16, 74]])]"
      ]
     },
     "execution_count": 89,
     "metadata": {},
     "output_type": "execute_result"
    }
   ],
   "source": [
    "get_metrics(predict_val_ada, y_val)"
   ]
  },
  {
   "cell_type": "code",
   "execution_count": 88,
   "id": "7ec15ab2-0eaa-4309-8368-c213604f322e",
   "metadata": {},
   "outputs": [
    {
     "data": {
      "text/plain": [
       "[0.7938144329896907,\n",
       " np.float64(0.7567567567567568),\n",
       " np.float64(0.717948717948718),\n",
       " np.float64(0.7368421052631579),\n",
       " np.float64(0.5680749201914252),\n",
       " array([[49, 11],\n",
       "        [ 9, 28]])]"
      ]
     },
     "execution_count": 88,
     "metadata": {},
     "output_type": "execute_result"
    }
   ],
   "source": [
    "get_metrics(predict_test_ada, y_test)"
   ]
  }
 ],
 "metadata": {
  "kernelspec": {
   "display_name": "Python 3 (ipykernel)",
   "language": "python",
   "name": "python3"
  },
  "language_info": {
   "codemirror_mode": {
    "name": "ipython",
    "version": 3
   },
   "file_extension": ".py",
   "mimetype": "text/x-python",
   "name": "python",
   "nbconvert_exporter": "python",
   "pygments_lexer": "ipython3",
   "version": "3.12.4"
  }
 },
 "nbformat": 4,
 "nbformat_minor": 5
}
