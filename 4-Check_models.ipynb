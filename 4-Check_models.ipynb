{
 "cells": [
  {
   "cell_type": "code",
   "execution_count": 1,
   "id": "39fdaebe-1004-4267-ab8b-7ac2e1b8fdb2",
   "metadata": {},
   "outputs": [],
   "source": [
    "import pandas as pd\n",
    "from joblib import load\n",
    "import numpy as np\n",
    "\n",
    "from sklearn.metrics import accuracy_score, recall_score, precision_score, f1_score, matthews_corrcoef, confusion_matrix\n",
    "from sklearn.model_selection import cross_val_score, cross_val_predict"
   ]
  },
  {
   "cell_type": "markdown",
   "id": "93dc579d",
   "metadata": {},
   "source": [
    "## Cargo datos"
   ]
  },
  {
   "cell_type": "code",
   "execution_count": 2,
   "id": "48b0f868",
   "metadata": {},
   "outputs": [],
   "source": [
    "val_data = pd.read_csv(\"data_separated/val_data.csv\")\n",
    "test_data = pd.read_csv(\"data_separated/test_data.csv\")"
   ]
  },
  {
   "cell_type": "code",
   "execution_count": 3,
   "id": "5a29c417",
   "metadata": {},
   "outputs": [],
   "source": [
    "y_val = pd.read_csv(\"data_separated/y_val.csv\")\n",
    "y_test = pd.read_csv(\"data_separated/y_test.csv\")"
   ]
  },
  {
   "cell_type": "code",
   "execution_count": 4,
   "id": "77d921f3",
   "metadata": {},
   "outputs": [],
   "source": [
    "mut_columns = [col for col in val_data.columns if \"_mut\" in col]"
   ]
  },
  {
   "cell_type": "markdown",
   "id": "dfc7cd21",
   "metadata": {},
   "source": [
    "### Pequeño parche\n",
    "Por alguna razon los dtypes de test y train son distintos. En train las columnas '_mut' son object y en test las columnas '_mut' son imt"
   ]
  },
  {
   "cell_type": "code",
   "execution_count": 5,
   "id": "e27a48bd",
   "metadata": {},
   "outputs": [
    {
     "name": "stdout",
     "output_type": "stream",
     "text": [
      "age_at_diagnosis          float64\n",
      "type_of_breast_surgery     object\n",
      "cancer_type                object\n",
      "cancer_type_detailed       object\n",
      "cellularity                object\n",
      "                           ...   \n",
      "hras_mut                    int64\n",
      "prps2_mut                   int64\n",
      "smarcb1_mut                 int64\n",
      "stmn2_mut                   int64\n",
      "siah1_mut                   int64\n",
      "Length: 692, dtype: object\n"
     ]
    }
   ],
   "source": [
    "print(test_data.dtypes)"
   ]
  },
  {
   "cell_type": "code",
   "execution_count": 6,
   "id": "2e587252",
   "metadata": {},
   "outputs": [
    {
     "name": "stdout",
     "output_type": "stream",
     "text": [
      "Adjusted test dataframe data types:\n",
      "age_at_diagnosis          float64\n",
      "type_of_breast_surgery     object\n",
      "cancer_type                object\n",
      "cancer_type_detailed       object\n",
      "cellularity                object\n",
      "                           ...   \n",
      "hras_mut                   object\n",
      "prps2_mut                  object\n",
      "smarcb1_mut                object\n",
      "stmn2_mut                  object\n",
      "siah1_mut                  object\n",
      "Length: 692, dtype: object\n"
     ]
    }
   ],
   "source": [
    "for col in mut_columns:\n",
    "    test_data[col] = test_data[col].astype('object')\n",
    "\n",
    "print(\"Adjusted test dataframe data types:\")\n",
    "print(test_data.dtypes)"
   ]
  },
  {
   "cell_type": "code",
   "execution_count": 7,
   "id": "8dcb8fcf",
   "metadata": {},
   "outputs": [
    {
     "name": "stdout",
     "output_type": "stream",
     "text": [
      "Adjusted test dataframe data types:\n",
      "age_at_diagnosis          float64\n",
      "type_of_breast_surgery     object\n",
      "cancer_type                object\n",
      "cancer_type_detailed       object\n",
      "cellularity                object\n",
      "                           ...   \n",
      "hras_mut                   object\n",
      "prps2_mut                  object\n",
      "smarcb1_mut                object\n",
      "stmn2_mut                  object\n",
      "siah1_mut                  object\n",
      "Length: 692, dtype: object\n"
     ]
    }
   ],
   "source": [
    "for col in mut_columns:\n",
    "    val_data[col] = val_data[col].astype('object')\n",
    "\n",
    "print(\"Adjusted test dataframe data types:\")\n",
    "print(val_data.dtypes)"
   ]
  },
  {
   "cell_type": "markdown",
   "id": "38c08f3d",
   "metadata": {},
   "source": [
    "## Definition de la clase modelo y prediccion"
   ]
  },
  {
   "cell_type": "code",
   "execution_count": 8,
   "id": "cc43ac68-44a0-4356-84ea-f4fa63d21ebd",
   "metadata": {},
   "outputs": [],
   "source": [
    "class Models():\n",
    "    def __init__(self, scaler_prefix: str, algorithm: str):\n",
    "        self.algorithm = algorithm\n",
    "        self.scaler = scaler_prefix\n",
    "        self.scaler_instance = load(f\"results/{scaler_prefix}_scaler.joblib\")\n",
    "        self.model_instance = load(f\"results/{algorithm}_model_{scaler_prefix}.joblib\")\n",
    "    \n",
    "    def predict(self):\n",
    "        self.predictions = self.model_instance.predict(self.data)\n",
    "    \n",
    "    def scale(self, data):\n",
    "        self.data = self.scaler_instance.transform(data)\n",
    "    \n",
    "    def cross_validate(self, X, y, cv):\n",
    "        return pd.DataFrame(\n",
    "            [[self.scaler, \n",
    "             self.algorithm, \n",
    "             cross_val_score(self.model_instance, X, y, cv=cv).mean()\n",
    "            ]], columns=[\"scaler\", \"algorithm\", \"cv\"]\n",
    "        )\n",
    "\n",
    "    def cv_predict(self, X, y, cv):\n",
    "        self.predictions = cross_val_predict(self.model_instance, X, y, cv=cv)\n",
    "        return self.get_metrics(y)\n",
    "\n",
    "    \n",
    "    def get_metrics(self, y_true):\n",
    "        acc_value = accuracy_score(y_pred=self.predictions, y_true=y_true) \n",
    "        recall_value = recall_score(y_pred=self.predictions, y_true=y_true)\n",
    "        precision_value = precision_score(y_pred=self.predictions, y_true=y_true) \n",
    "        f1_value = f1_score(y_pred=self.predictions, y_true=y_true)\n",
    "        mcc_value = matthews_corrcoef(y_pred=self.predictions, y_true=y_true)\n",
    "        cm = confusion_matrix(y_pred=self.predictions, y_true=y_true)\n",
    "    \n",
    "        return pd.DataFrame(\n",
    "            [[self.scaler, self.algorithm, acc_value, recall_value, precision_value, f1_value, mcc_value, cm]],\n",
    "            columns=[\"scaler\", \"algorithm\", \"acc\", \"recall\", \"precision\", \"f1\", \"mcc\", \"cm\"]\n",
    "        )"
   ]
  },
  {
   "cell_type": "code",
   "execution_count": 9,
   "id": "74604699-72b4-4bee-b6d2-a21e1540a105",
   "metadata": {},
   "outputs": [],
   "source": [
    "scaler_names = [\"std\", \"minmax\", \"robust\"]\n",
    "algorithm_names = [\"ada\", \"dt\", \"knn\", \"rf\", \"sdgc\", \"svm\"]"
   ]
  },
  {
   "cell_type": "code",
   "execution_count": 10,
   "id": "efda606f",
   "metadata": {},
   "outputs": [],
   "source": [
    "models = []\n",
    "scalers = []\n",
    "\n",
    "for scaler in scaler_names:\n",
    "    for algorithm in algorithm_names:\n",
    "        models.append(Models(scaler, algorithm))\n",
    "# std ada\n",
    "# std dt\n",
    "# ...\n",
    "# minmax ada\n",
    "# minmax dt"
   ]
  },
  {
   "cell_type": "code",
   "execution_count": 11,
   "id": "7eb79e17",
   "metadata": {},
   "outputs": [
    {
     "name": "stderr",
     "output_type": "stream",
     "text": [
      "/home/diego/miniconda3/envs/pandas-env/lib/python3.12/site-packages/sklearn/base.py:493: UserWarning: X does not have valid feature names, but AdaBoostClassifier was fitted with feature names\n",
      "  warnings.warn(\n",
      "/home/diego/miniconda3/envs/pandas-env/lib/python3.12/site-packages/sklearn/base.py:493: UserWarning: X does not have valid feature names, but DecisionTreeClassifier was fitted with feature names\n",
      "  warnings.warn(\n",
      "/home/diego/miniconda3/envs/pandas-env/lib/python3.12/site-packages/sklearn/base.py:493: UserWarning: X does not have valid feature names, but KNeighborsClassifier was fitted with feature names\n",
      "  warnings.warn(\n",
      "/home/diego/miniconda3/envs/pandas-env/lib/python3.12/site-packages/sklearn/base.py:493: UserWarning: X does not have valid feature names, but RandomForestClassifier was fitted with feature names\n",
      "  warnings.warn(\n",
      "/home/diego/miniconda3/envs/pandas-env/lib/python3.12/site-packages/sklearn/base.py:493: UserWarning: X does not have valid feature names, but SGDClassifier was fitted with feature names\n",
      "  warnings.warn(\n",
      "/home/diego/miniconda3/envs/pandas-env/lib/python3.12/site-packages/sklearn/base.py:493: UserWarning: X does not have valid feature names, but SVC was fitted with feature names\n",
      "  warnings.warn(\n",
      "/home/diego/miniconda3/envs/pandas-env/lib/python3.12/site-packages/sklearn/base.py:493: UserWarning: X does not have valid feature names, but AdaBoostClassifier was fitted with feature names\n",
      "  warnings.warn(\n",
      "/home/diego/miniconda3/envs/pandas-env/lib/python3.12/site-packages/sklearn/base.py:493: UserWarning: X does not have valid feature names, but DecisionTreeClassifier was fitted with feature names\n",
      "  warnings.warn(\n",
      "/home/diego/miniconda3/envs/pandas-env/lib/python3.12/site-packages/sklearn/base.py:493: UserWarning: X does not have valid feature names, but KNeighborsClassifier was fitted with feature names\n",
      "  warnings.warn(\n",
      "/home/diego/miniconda3/envs/pandas-env/lib/python3.12/site-packages/sklearn/base.py:493: UserWarning: X does not have valid feature names, but RandomForestClassifier was fitted with feature names\n",
      "  warnings.warn(\n",
      "/home/diego/miniconda3/envs/pandas-env/lib/python3.12/site-packages/sklearn/base.py:493: UserWarning: X does not have valid feature names, but SGDClassifier was fitted with feature names\n",
      "  warnings.warn(\n",
      "/home/diego/miniconda3/envs/pandas-env/lib/python3.12/site-packages/sklearn/base.py:493: UserWarning: X does not have valid feature names, but SVC was fitted with feature names\n",
      "  warnings.warn(\n",
      "/home/diego/miniconda3/envs/pandas-env/lib/python3.12/site-packages/sklearn/base.py:493: UserWarning: X does not have valid feature names, but AdaBoostClassifier was fitted with feature names\n",
      "  warnings.warn(\n",
      "/home/diego/miniconda3/envs/pandas-env/lib/python3.12/site-packages/sklearn/base.py:493: UserWarning: X does not have valid feature names, but DecisionTreeClassifier was fitted with feature names\n",
      "  warnings.warn(\n",
      "/home/diego/miniconda3/envs/pandas-env/lib/python3.12/site-packages/sklearn/base.py:493: UserWarning: X does not have valid feature names, but KNeighborsClassifier was fitted with feature names\n",
      "  warnings.warn(\n",
      "/home/diego/miniconda3/envs/pandas-env/lib/python3.12/site-packages/sklearn/base.py:493: UserWarning: X does not have valid feature names, but RandomForestClassifier was fitted with feature names\n",
      "  warnings.warn(\n",
      "/home/diego/miniconda3/envs/pandas-env/lib/python3.12/site-packages/sklearn/base.py:493: UserWarning: X does not have valid feature names, but SGDClassifier was fitted with feature names\n",
      "  warnings.warn(\n",
      "/home/diego/miniconda3/envs/pandas-env/lib/python3.12/site-packages/sklearn/base.py:493: UserWarning: X does not have valid feature names, but SVC was fitted with feature names\n",
      "  warnings.warn(\n"
     ]
    }
   ],
   "source": [
    "for model in models:\n",
    "    model.scale(val_data)\n",
    "    model.predict()\n",
    "    "
   ]
  },
  {
   "cell_type": "code",
   "execution_count": 12,
   "id": "9953c6f8",
   "metadata": {},
   "outputs": [
    {
     "name": "stderr",
     "output_type": "stream",
     "text": [
      "/tmp/ipykernel_323974/3812921934.py:3: FutureWarning: The behavior of DataFrame concatenation with empty or all-NA entries is deprecated. In a future version, this will no longer exclude empty or all-NA columns when determining the result dtypes. To retain the old behavior, exclude the relevant entries before the concat operation.\n",
      "  metrics_df = pd.concat([metrics_df, model.get_metrics(y_val)])\n"
     ]
    },
    {
     "data": {
      "text/html": [
       "<div>\n",
       "<style scoped>\n",
       "    .dataframe tbody tr th:only-of-type {\n",
       "        vertical-align: middle;\n",
       "    }\n",
       "\n",
       "    .dataframe tbody tr th {\n",
       "        vertical-align: top;\n",
       "    }\n",
       "\n",
       "    .dataframe thead th {\n",
       "        text-align: right;\n",
       "    }\n",
       "</style>\n",
       "<table border=\"1\" class=\"dataframe\">\n",
       "  <thead>\n",
       "    <tr style=\"text-align: right;\">\n",
       "      <th></th>\n",
       "      <th>scaler</th>\n",
       "      <th>algorithm</th>\n",
       "      <th>acc</th>\n",
       "      <th>recall</th>\n",
       "      <th>precision</th>\n",
       "      <th>f1</th>\n",
       "      <th>mcc</th>\n",
       "      <th>cm</th>\n",
       "    </tr>\n",
       "  </thead>\n",
       "  <tbody>\n",
       "    <tr>\n",
       "      <th>0</th>\n",
       "      <td>std</td>\n",
       "      <td>ada</td>\n",
       "      <td>1.000000</td>\n",
       "      <td>1.000000</td>\n",
       "      <td>1.000000</td>\n",
       "      <td>1.000000</td>\n",
       "      <td>1.000000</td>\n",
       "      <td>[[99, 0], [0, 98]]</td>\n",
       "    </tr>\n",
       "    <tr>\n",
       "      <th>0</th>\n",
       "      <td>std</td>\n",
       "      <td>dt</td>\n",
       "      <td>1.000000</td>\n",
       "      <td>1.000000</td>\n",
       "      <td>1.000000</td>\n",
       "      <td>1.000000</td>\n",
       "      <td>1.000000</td>\n",
       "      <td>[[99, 0], [0, 98]]</td>\n",
       "    </tr>\n",
       "    <tr>\n",
       "      <th>0</th>\n",
       "      <td>std</td>\n",
       "      <td>knn</td>\n",
       "      <td>0.502538</td>\n",
       "      <td>0.938776</td>\n",
       "      <td>0.500000</td>\n",
       "      <td>0.652482</td>\n",
       "      <td>0.019098</td>\n",
       "      <td>[[7, 92], [6, 92]]</td>\n",
       "    </tr>\n",
       "    <tr>\n",
       "      <th>0</th>\n",
       "      <td>std</td>\n",
       "      <td>rf</td>\n",
       "      <td>0.989848</td>\n",
       "      <td>0.979592</td>\n",
       "      <td>1.000000</td>\n",
       "      <td>0.989691</td>\n",
       "      <td>0.979895</td>\n",
       "      <td>[[99, 0], [2, 96]]</td>\n",
       "    </tr>\n",
       "    <tr>\n",
       "      <th>0</th>\n",
       "      <td>std</td>\n",
       "      <td>sdgc</td>\n",
       "      <td>0.725888</td>\n",
       "      <td>0.448980</td>\n",
       "      <td>1.000000</td>\n",
       "      <td>0.619718</td>\n",
       "      <td>0.538996</td>\n",
       "      <td>[[99, 0], [54, 44]]</td>\n",
       "    </tr>\n",
       "    <tr>\n",
       "      <th>0</th>\n",
       "      <td>std</td>\n",
       "      <td>svm</td>\n",
       "      <td>0.512690</td>\n",
       "      <td>0.020408</td>\n",
       "      <td>1.000000</td>\n",
       "      <td>0.040000</td>\n",
       "      <td>0.101789</td>\n",
       "      <td>[[99, 0], [96, 2]]</td>\n",
       "    </tr>\n",
       "    <tr>\n",
       "      <th>0</th>\n",
       "      <td>minmax</td>\n",
       "      <td>ada</td>\n",
       "      <td>1.000000</td>\n",
       "      <td>1.000000</td>\n",
       "      <td>1.000000</td>\n",
       "      <td>1.000000</td>\n",
       "      <td>1.000000</td>\n",
       "      <td>[[99, 0], [0, 98]]</td>\n",
       "    </tr>\n",
       "    <tr>\n",
       "      <th>0</th>\n",
       "      <td>minmax</td>\n",
       "      <td>dt</td>\n",
       "      <td>1.000000</td>\n",
       "      <td>1.000000</td>\n",
       "      <td>1.000000</td>\n",
       "      <td>1.000000</td>\n",
       "      <td>1.000000</td>\n",
       "      <td>[[99, 0], [0, 98]]</td>\n",
       "    </tr>\n",
       "    <tr>\n",
       "      <th>0</th>\n",
       "      <td>minmax</td>\n",
       "      <td>knn</td>\n",
       "      <td>0.583756</td>\n",
       "      <td>0.561224</td>\n",
       "      <td>0.585106</td>\n",
       "      <td>0.572917</td>\n",
       "      <td>0.167458</td>\n",
       "      <td>[[60, 39], [43, 55]]</td>\n",
       "    </tr>\n",
       "    <tr>\n",
       "      <th>0</th>\n",
       "      <td>minmax</td>\n",
       "      <td>rf</td>\n",
       "      <td>0.979695</td>\n",
       "      <td>0.959184</td>\n",
       "      <td>1.000000</td>\n",
       "      <td>0.979167</td>\n",
       "      <td>0.960174</td>\n",
       "      <td>[[99, 0], [4, 94]]</td>\n",
       "    </tr>\n",
       "    <tr>\n",
       "      <th>0</th>\n",
       "      <td>minmax</td>\n",
       "      <td>sdgc</td>\n",
       "      <td>0.939086</td>\n",
       "      <td>0.989796</td>\n",
       "      <td>0.898148</td>\n",
       "      <td>0.941748</td>\n",
       "      <td>0.882789</td>\n",
       "      <td>[[88, 11], [1, 97]]</td>\n",
       "    </tr>\n",
       "    <tr>\n",
       "      <th>0</th>\n",
       "      <td>minmax</td>\n",
       "      <td>svm</td>\n",
       "      <td>0.827411</td>\n",
       "      <td>0.734694</td>\n",
       "      <td>0.900000</td>\n",
       "      <td>0.808989</td>\n",
       "      <td>0.665725</td>\n",
       "      <td>[[91, 8], [26, 72]]</td>\n",
       "    </tr>\n",
       "    <tr>\n",
       "      <th>0</th>\n",
       "      <td>robust</td>\n",
       "      <td>ada</td>\n",
       "      <td>1.000000</td>\n",
       "      <td>1.000000</td>\n",
       "      <td>1.000000</td>\n",
       "      <td>1.000000</td>\n",
       "      <td>1.000000</td>\n",
       "      <td>[[99, 0], [0, 98]]</td>\n",
       "    </tr>\n",
       "    <tr>\n",
       "      <th>0</th>\n",
       "      <td>robust</td>\n",
       "      <td>dt</td>\n",
       "      <td>1.000000</td>\n",
       "      <td>1.000000</td>\n",
       "      <td>1.000000</td>\n",
       "      <td>1.000000</td>\n",
       "      <td>1.000000</td>\n",
       "      <td>[[99, 0], [0, 98]]</td>\n",
       "    </tr>\n",
       "    <tr>\n",
       "      <th>0</th>\n",
       "      <td>robust</td>\n",
       "      <td>knn</td>\n",
       "      <td>0.614213</td>\n",
       "      <td>0.632653</td>\n",
       "      <td>0.607843</td>\n",
       "      <td>0.620000</td>\n",
       "      <td>0.228754</td>\n",
       "      <td>[[59, 40], [36, 62]]</td>\n",
       "    </tr>\n",
       "    <tr>\n",
       "      <th>0</th>\n",
       "      <td>robust</td>\n",
       "      <td>rf</td>\n",
       "      <td>0.974619</td>\n",
       "      <td>0.959184</td>\n",
       "      <td>0.989474</td>\n",
       "      <td>0.974093</td>\n",
       "      <td>0.949670</td>\n",
       "      <td>[[98, 1], [4, 94]]</td>\n",
       "    </tr>\n",
       "    <tr>\n",
       "      <th>0</th>\n",
       "      <td>robust</td>\n",
       "      <td>sdgc</td>\n",
       "      <td>0.934010</td>\n",
       "      <td>0.908163</td>\n",
       "      <td>0.956989</td>\n",
       "      <td>0.931937</td>\n",
       "      <td>0.869104</td>\n",
       "      <td>[[95, 4], [9, 89]]</td>\n",
       "    </tr>\n",
       "    <tr>\n",
       "      <th>0</th>\n",
       "      <td>robust</td>\n",
       "      <td>svm</td>\n",
       "      <td>0.827411</td>\n",
       "      <td>0.724490</td>\n",
       "      <td>0.910256</td>\n",
       "      <td>0.806818</td>\n",
       "      <td>0.668411</td>\n",
       "      <td>[[92, 7], [27, 71]]</td>\n",
       "    </tr>\n",
       "  </tbody>\n",
       "</table>\n",
       "</div>"
      ],
      "text/plain": [
       "   scaler algorithm       acc    recall  precision        f1       mcc  \\\n",
       "0     std       ada  1.000000  1.000000   1.000000  1.000000  1.000000   \n",
       "0     std        dt  1.000000  1.000000   1.000000  1.000000  1.000000   \n",
       "0     std       knn  0.502538  0.938776   0.500000  0.652482  0.019098   \n",
       "0     std        rf  0.989848  0.979592   1.000000  0.989691  0.979895   \n",
       "0     std      sdgc  0.725888  0.448980   1.000000  0.619718  0.538996   \n",
       "0     std       svm  0.512690  0.020408   1.000000  0.040000  0.101789   \n",
       "0  minmax       ada  1.000000  1.000000   1.000000  1.000000  1.000000   \n",
       "0  minmax        dt  1.000000  1.000000   1.000000  1.000000  1.000000   \n",
       "0  minmax       knn  0.583756  0.561224   0.585106  0.572917  0.167458   \n",
       "0  minmax        rf  0.979695  0.959184   1.000000  0.979167  0.960174   \n",
       "0  minmax      sdgc  0.939086  0.989796   0.898148  0.941748  0.882789   \n",
       "0  minmax       svm  0.827411  0.734694   0.900000  0.808989  0.665725   \n",
       "0  robust       ada  1.000000  1.000000   1.000000  1.000000  1.000000   \n",
       "0  robust        dt  1.000000  1.000000   1.000000  1.000000  1.000000   \n",
       "0  robust       knn  0.614213  0.632653   0.607843  0.620000  0.228754   \n",
       "0  robust        rf  0.974619  0.959184   0.989474  0.974093  0.949670   \n",
       "0  robust      sdgc  0.934010  0.908163   0.956989  0.931937  0.869104   \n",
       "0  robust       svm  0.827411  0.724490   0.910256  0.806818  0.668411   \n",
       "\n",
       "                     cm  \n",
       "0    [[99, 0], [0, 98]]  \n",
       "0    [[99, 0], [0, 98]]  \n",
       "0    [[7, 92], [6, 92]]  \n",
       "0    [[99, 0], [2, 96]]  \n",
       "0   [[99, 0], [54, 44]]  \n",
       "0    [[99, 0], [96, 2]]  \n",
       "0    [[99, 0], [0, 98]]  \n",
       "0    [[99, 0], [0, 98]]  \n",
       "0  [[60, 39], [43, 55]]  \n",
       "0    [[99, 0], [4, 94]]  \n",
       "0   [[88, 11], [1, 97]]  \n",
       "0   [[91, 8], [26, 72]]  \n",
       "0    [[99, 0], [0, 98]]  \n",
       "0    [[99, 0], [0, 98]]  \n",
       "0  [[59, 40], [36, 62]]  \n",
       "0    [[98, 1], [4, 94]]  \n",
       "0    [[95, 4], [9, 89]]  \n",
       "0   [[92, 7], [27, 71]]  "
      ]
     },
     "execution_count": 12,
     "metadata": {},
     "output_type": "execute_result"
    }
   ],
   "source": [
    "metrics_df = pd.DataFrame(columns=[\"scaler\", \"algorithm\",\"acc\", \"recall\", \"precision\", \"f1\", \"mcc\", \"cm\"])\n",
    "for model in models:\n",
    "    metrics_df = pd.concat([metrics_df, model.get_metrics(y_val)])\n",
    "metrics_df"
   ]
  },
  {
   "cell_type": "code",
   "execution_count": 13,
   "id": "077645a1",
   "metadata": {},
   "outputs": [
    {
     "name": "stderr",
     "output_type": "stream",
     "text": [
      "/home/diego/miniconda3/envs/pandas-env/lib/python3.12/site-packages/sklearn/base.py:493: UserWarning: X does not have valid feature names, but AdaBoostClassifier was fitted with feature names\n",
      "  warnings.warn(\n",
      "/home/diego/miniconda3/envs/pandas-env/lib/python3.12/site-packages/sklearn/base.py:493: UserWarning: X does not have valid feature names, but DecisionTreeClassifier was fitted with feature names\n",
      "  warnings.warn(\n",
      "/home/diego/miniconda3/envs/pandas-env/lib/python3.12/site-packages/sklearn/base.py:493: UserWarning: X does not have valid feature names, but KNeighborsClassifier was fitted with feature names\n",
      "  warnings.warn(\n",
      "/home/diego/miniconda3/envs/pandas-env/lib/python3.12/site-packages/sklearn/base.py:493: UserWarning: X does not have valid feature names, but RandomForestClassifier was fitted with feature names\n",
      "  warnings.warn(\n",
      "/home/diego/miniconda3/envs/pandas-env/lib/python3.12/site-packages/sklearn/base.py:493: UserWarning: X does not have valid feature names, but SGDClassifier was fitted with feature names\n",
      "  warnings.warn(\n",
      "/home/diego/miniconda3/envs/pandas-env/lib/python3.12/site-packages/sklearn/base.py:493: UserWarning: X does not have valid feature names, but SVC was fitted with feature names\n",
      "  warnings.warn(\n",
      "/home/diego/miniconda3/envs/pandas-env/lib/python3.12/site-packages/sklearn/base.py:493: UserWarning: X does not have valid feature names, but AdaBoostClassifier was fitted with feature names\n",
      "  warnings.warn(\n",
      "/home/diego/miniconda3/envs/pandas-env/lib/python3.12/site-packages/sklearn/base.py:493: UserWarning: X does not have valid feature names, but DecisionTreeClassifier was fitted with feature names\n",
      "  warnings.warn(\n",
      "/home/diego/miniconda3/envs/pandas-env/lib/python3.12/site-packages/sklearn/base.py:493: UserWarning: X does not have valid feature names, but KNeighborsClassifier was fitted with feature names\n",
      "  warnings.warn(\n",
      "/home/diego/miniconda3/envs/pandas-env/lib/python3.12/site-packages/sklearn/base.py:493: UserWarning: X does not have valid feature names, but RandomForestClassifier was fitted with feature names\n",
      "  warnings.warn(\n",
      "/home/diego/miniconda3/envs/pandas-env/lib/python3.12/site-packages/sklearn/base.py:493: UserWarning: X does not have valid feature names, but SGDClassifier was fitted with feature names\n",
      "  warnings.warn(\n",
      "/home/diego/miniconda3/envs/pandas-env/lib/python3.12/site-packages/sklearn/base.py:493: UserWarning: X does not have valid feature names, but SVC was fitted with feature names\n",
      "  warnings.warn(\n",
      "/home/diego/miniconda3/envs/pandas-env/lib/python3.12/site-packages/sklearn/base.py:493: UserWarning: X does not have valid feature names, but AdaBoostClassifier was fitted with feature names\n",
      "  warnings.warn(\n",
      "/home/diego/miniconda3/envs/pandas-env/lib/python3.12/site-packages/sklearn/base.py:493: UserWarning: X does not have valid feature names, but DecisionTreeClassifier was fitted with feature names\n",
      "  warnings.warn(\n",
      "/home/diego/miniconda3/envs/pandas-env/lib/python3.12/site-packages/sklearn/base.py:493: UserWarning: X does not have valid feature names, but KNeighborsClassifier was fitted with feature names\n",
      "  warnings.warn(\n",
      "/home/diego/miniconda3/envs/pandas-env/lib/python3.12/site-packages/sklearn/base.py:493: UserWarning: X does not have valid feature names, but RandomForestClassifier was fitted with feature names\n",
      "  warnings.warn(\n",
      "/home/diego/miniconda3/envs/pandas-env/lib/python3.12/site-packages/sklearn/base.py:493: UserWarning: X does not have valid feature names, but SGDClassifier was fitted with feature names\n",
      "  warnings.warn(\n",
      "/home/diego/miniconda3/envs/pandas-env/lib/python3.12/site-packages/sklearn/base.py:493: UserWarning: X does not have valid feature names, but SVC was fitted with feature names\n",
      "  warnings.warn(\n"
     ]
    }
   ],
   "source": [
    "for model in models:\n",
    "    model.scale(test_data)\n",
    "    model.predict()"
   ]
  },
  {
   "cell_type": "code",
   "execution_count": 15,
   "id": "be67ba24",
   "metadata": {},
   "outputs": [
    {
     "name": "stderr",
     "output_type": "stream",
     "text": [
      "/tmp/ipykernel_323974/998513128.py:3: FutureWarning: The behavior of DataFrame concatenation with empty or all-NA entries is deprecated. In a future version, this will no longer exclude empty or all-NA columns when determining the result dtypes. To retain the old behavior, exclude the relevant entries before the concat operation.\n",
      "  metrics_df = pd.concat([metrics_df, model.get_metrics(y_test)])\n",
      "/home/diego/miniconda3/envs/pandas-env/lib/python3.12/site-packages/sklearn/metrics/_classification.py:1531: UndefinedMetricWarning: Precision is ill-defined and being set to 0.0 due to no predicted samples. Use `zero_division` parameter to control this behavior.\n",
      "  _warn_prf(average, modifier, f\"{metric.capitalize()} is\", len(result))\n"
     ]
    },
    {
     "data": {
      "text/html": [
       "<div>\n",
       "<style scoped>\n",
       "    .dataframe tbody tr th:only-of-type {\n",
       "        vertical-align: middle;\n",
       "    }\n",
       "\n",
       "    .dataframe tbody tr th {\n",
       "        vertical-align: top;\n",
       "    }\n",
       "\n",
       "    .dataframe thead th {\n",
       "        text-align: right;\n",
       "    }\n",
       "</style>\n",
       "<table border=\"1\" class=\"dataframe\">\n",
       "  <thead>\n",
       "    <tr style=\"text-align: right;\">\n",
       "      <th></th>\n",
       "      <th>scaler</th>\n",
       "      <th>algorithm</th>\n",
       "      <th>acc</th>\n",
       "      <th>recall</th>\n",
       "      <th>precision</th>\n",
       "      <th>f1</th>\n",
       "      <th>mcc</th>\n",
       "      <th>cm</th>\n",
       "    </tr>\n",
       "  </thead>\n",
       "  <tbody>\n",
       "    <tr>\n",
       "      <th>0</th>\n",
       "      <td>std</td>\n",
       "      <td>ada</td>\n",
       "      <td>1.000000</td>\n",
       "      <td>1.000000</td>\n",
       "      <td>1.000000</td>\n",
       "      <td>1.000000</td>\n",
       "      <td>1.000000</td>\n",
       "      <td>[[65, 0], [0, 45]]</td>\n",
       "    </tr>\n",
       "    <tr>\n",
       "      <th>0</th>\n",
       "      <td>std</td>\n",
       "      <td>dt</td>\n",
       "      <td>1.000000</td>\n",
       "      <td>1.000000</td>\n",
       "      <td>1.000000</td>\n",
       "      <td>1.000000</td>\n",
       "      <td>1.000000</td>\n",
       "      <td>[[65, 0], [0, 45]]</td>\n",
       "    </tr>\n",
       "    <tr>\n",
       "      <th>0</th>\n",
       "      <td>std</td>\n",
       "      <td>knn</td>\n",
       "      <td>0.454545</td>\n",
       "      <td>0.933333</td>\n",
       "      <td>0.424242</td>\n",
       "      <td>0.583333</td>\n",
       "      <td>0.092450</td>\n",
       "      <td>[[8, 57], [3, 42]]</td>\n",
       "    </tr>\n",
       "    <tr>\n",
       "      <th>0</th>\n",
       "      <td>std</td>\n",
       "      <td>rf</td>\n",
       "      <td>0.990909</td>\n",
       "      <td>0.977778</td>\n",
       "      <td>1.000000</td>\n",
       "      <td>0.988764</td>\n",
       "      <td>0.981307</td>\n",
       "      <td>[[65, 0], [1, 44]]</td>\n",
       "    </tr>\n",
       "    <tr>\n",
       "      <th>0</th>\n",
       "      <td>std</td>\n",
       "      <td>sdgc</td>\n",
       "      <td>0.609091</td>\n",
       "      <td>0.044444</td>\n",
       "      <td>1.000000</td>\n",
       "      <td>0.085106</td>\n",
       "      <td>0.163551</td>\n",
       "      <td>[[65, 0], [43, 2]]</td>\n",
       "    </tr>\n",
       "    <tr>\n",
       "      <th>0</th>\n",
       "      <td>std</td>\n",
       "      <td>svm</td>\n",
       "      <td>0.590909</td>\n",
       "      <td>0.000000</td>\n",
       "      <td>0.000000</td>\n",
       "      <td>0.000000</td>\n",
       "      <td>0.000000</td>\n",
       "      <td>[[65, 0], [45, 0]]</td>\n",
       "    </tr>\n",
       "    <tr>\n",
       "      <th>0</th>\n",
       "      <td>minmax</td>\n",
       "      <td>ada</td>\n",
       "      <td>1.000000</td>\n",
       "      <td>1.000000</td>\n",
       "      <td>1.000000</td>\n",
       "      <td>1.000000</td>\n",
       "      <td>1.000000</td>\n",
       "      <td>[[65, 0], [0, 45]]</td>\n",
       "    </tr>\n",
       "    <tr>\n",
       "      <th>0</th>\n",
       "      <td>minmax</td>\n",
       "      <td>dt</td>\n",
       "      <td>1.000000</td>\n",
       "      <td>1.000000</td>\n",
       "      <td>1.000000</td>\n",
       "      <td>1.000000</td>\n",
       "      <td>1.000000</td>\n",
       "      <td>[[65, 0], [0, 45]]</td>\n",
       "    </tr>\n",
       "    <tr>\n",
       "      <th>0</th>\n",
       "      <td>minmax</td>\n",
       "      <td>knn</td>\n",
       "      <td>0.581818</td>\n",
       "      <td>0.488889</td>\n",
       "      <td>0.488889</td>\n",
       "      <td>0.488889</td>\n",
       "      <td>0.135043</td>\n",
       "      <td>[[42, 23], [23, 22]]</td>\n",
       "    </tr>\n",
       "    <tr>\n",
       "      <th>0</th>\n",
       "      <td>minmax</td>\n",
       "      <td>rf</td>\n",
       "      <td>0.972727</td>\n",
       "      <td>0.933333</td>\n",
       "      <td>1.000000</td>\n",
       "      <td>0.965517</td>\n",
       "      <td>0.944541</td>\n",
       "      <td>[[65, 0], [3, 42]]</td>\n",
       "    </tr>\n",
       "    <tr>\n",
       "      <th>0</th>\n",
       "      <td>minmax</td>\n",
       "      <td>sdgc</td>\n",
       "      <td>0.909091</td>\n",
       "      <td>1.000000</td>\n",
       "      <td>0.818182</td>\n",
       "      <td>0.900000</td>\n",
       "      <td>0.832050</td>\n",
       "      <td>[[55, 10], [0, 45]]</td>\n",
       "    </tr>\n",
       "    <tr>\n",
       "      <th>0</th>\n",
       "      <td>minmax</td>\n",
       "      <td>svm</td>\n",
       "      <td>0.854545</td>\n",
       "      <td>0.688889</td>\n",
       "      <td>0.939394</td>\n",
       "      <td>0.794872</td>\n",
       "      <td>0.706099</td>\n",
       "      <td>[[63, 2], [14, 31]]</td>\n",
       "    </tr>\n",
       "    <tr>\n",
       "      <th>0</th>\n",
       "      <td>robust</td>\n",
       "      <td>ada</td>\n",
       "      <td>1.000000</td>\n",
       "      <td>1.000000</td>\n",
       "      <td>1.000000</td>\n",
       "      <td>1.000000</td>\n",
       "      <td>1.000000</td>\n",
       "      <td>[[65, 0], [0, 45]]</td>\n",
       "    </tr>\n",
       "    <tr>\n",
       "      <th>0</th>\n",
       "      <td>robust</td>\n",
       "      <td>dt</td>\n",
       "      <td>1.000000</td>\n",
       "      <td>1.000000</td>\n",
       "      <td>1.000000</td>\n",
       "      <td>1.000000</td>\n",
       "      <td>1.000000</td>\n",
       "      <td>[[65, 0], [0, 45]]</td>\n",
       "    </tr>\n",
       "    <tr>\n",
       "      <th>0</th>\n",
       "      <td>robust</td>\n",
       "      <td>knn</td>\n",
       "      <td>0.572727</td>\n",
       "      <td>0.488889</td>\n",
       "      <td>0.478261</td>\n",
       "      <td>0.483516</td>\n",
       "      <td>0.119271</td>\n",
       "      <td>[[41, 24], [23, 22]]</td>\n",
       "    </tr>\n",
       "    <tr>\n",
       "      <th>0</th>\n",
       "      <td>robust</td>\n",
       "      <td>rf</td>\n",
       "      <td>0.981818</td>\n",
       "      <td>0.955556</td>\n",
       "      <td>1.000000</td>\n",
       "      <td>0.977273</td>\n",
       "      <td>0.962825</td>\n",
       "      <td>[[65, 0], [2, 43]]</td>\n",
       "    </tr>\n",
       "    <tr>\n",
       "      <th>0</th>\n",
       "      <td>robust</td>\n",
       "      <td>sdgc</td>\n",
       "      <td>0.918182</td>\n",
       "      <td>0.866667</td>\n",
       "      <td>0.928571</td>\n",
       "      <td>0.896552</td>\n",
       "      <td>0.830365</td>\n",
       "      <td>[[62, 3], [6, 39]]</td>\n",
       "    </tr>\n",
       "    <tr>\n",
       "      <th>0</th>\n",
       "      <td>robust</td>\n",
       "      <td>svm</td>\n",
       "      <td>0.818182</td>\n",
       "      <td>0.622222</td>\n",
       "      <td>0.903226</td>\n",
       "      <td>0.736842</td>\n",
       "      <td>0.629568</td>\n",
       "      <td>[[62, 3], [17, 28]]</td>\n",
       "    </tr>\n",
       "  </tbody>\n",
       "</table>\n",
       "</div>"
      ],
      "text/plain": [
       "   scaler algorithm       acc    recall  precision        f1       mcc  \\\n",
       "0     std       ada  1.000000  1.000000   1.000000  1.000000  1.000000   \n",
       "0     std        dt  1.000000  1.000000   1.000000  1.000000  1.000000   \n",
       "0     std       knn  0.454545  0.933333   0.424242  0.583333  0.092450   \n",
       "0     std        rf  0.990909  0.977778   1.000000  0.988764  0.981307   \n",
       "0     std      sdgc  0.609091  0.044444   1.000000  0.085106  0.163551   \n",
       "0     std       svm  0.590909  0.000000   0.000000  0.000000  0.000000   \n",
       "0  minmax       ada  1.000000  1.000000   1.000000  1.000000  1.000000   \n",
       "0  minmax        dt  1.000000  1.000000   1.000000  1.000000  1.000000   \n",
       "0  minmax       knn  0.581818  0.488889   0.488889  0.488889  0.135043   \n",
       "0  minmax        rf  0.972727  0.933333   1.000000  0.965517  0.944541   \n",
       "0  minmax      sdgc  0.909091  1.000000   0.818182  0.900000  0.832050   \n",
       "0  minmax       svm  0.854545  0.688889   0.939394  0.794872  0.706099   \n",
       "0  robust       ada  1.000000  1.000000   1.000000  1.000000  1.000000   \n",
       "0  robust        dt  1.000000  1.000000   1.000000  1.000000  1.000000   \n",
       "0  robust       knn  0.572727  0.488889   0.478261  0.483516  0.119271   \n",
       "0  robust        rf  0.981818  0.955556   1.000000  0.977273  0.962825   \n",
       "0  robust      sdgc  0.918182  0.866667   0.928571  0.896552  0.830365   \n",
       "0  robust       svm  0.818182  0.622222   0.903226  0.736842  0.629568   \n",
       "\n",
       "                     cm  \n",
       "0    [[65, 0], [0, 45]]  \n",
       "0    [[65, 0], [0, 45]]  \n",
       "0    [[8, 57], [3, 42]]  \n",
       "0    [[65, 0], [1, 44]]  \n",
       "0    [[65, 0], [43, 2]]  \n",
       "0    [[65, 0], [45, 0]]  \n",
       "0    [[65, 0], [0, 45]]  \n",
       "0    [[65, 0], [0, 45]]  \n",
       "0  [[42, 23], [23, 22]]  \n",
       "0    [[65, 0], [3, 42]]  \n",
       "0   [[55, 10], [0, 45]]  \n",
       "0   [[63, 2], [14, 31]]  \n",
       "0    [[65, 0], [0, 45]]  \n",
       "0    [[65, 0], [0, 45]]  \n",
       "0  [[41, 24], [23, 22]]  \n",
       "0    [[65, 0], [2, 43]]  \n",
       "0    [[62, 3], [6, 39]]  \n",
       "0   [[62, 3], [17, 28]]  "
      ]
     },
     "execution_count": 15,
     "metadata": {},
     "output_type": "execute_result"
    }
   ],
   "source": [
    "metrics_df = pd.DataFrame(columns=[\"scaler\", \"algorithm\",\"acc\", \"recall\", \"precision\", \"f1\", \"mcc\", \"cm\"])\n",
    "for model in models:\n",
    "    metrics_df = pd.concat([metrics_df, model.get_metrics(y_test)])\n",
    "metrics_df"
   ]
  },
  {
   "cell_type": "markdown",
   "id": "18cd53d5",
   "metadata": {},
   "source": [
    "## Cross Validation"
   ]
  },
  {
   "cell_type": "code",
   "execution_count": 16,
   "id": "3c6774e4",
   "metadata": {},
   "outputs": [],
   "source": [
    "train_X = pd.read_csv(\"data_separated/train_data_std.csv\")\n",
    "train_y = pd.read_csv(\"data_separated/y_train.csv\")"
   ]
  },
  {
   "cell_type": "code",
   "execution_count": 17,
   "id": "5ad4e9d8",
   "metadata": {},
   "outputs": [
    {
     "name": "stderr",
     "output_type": "stream",
     "text": [
      "/home/diego/miniconda3/envs/pandas-env/lib/python3.12/site-packages/sklearn/utils/validation.py:1339: DataConversionWarning: A column-vector y was passed when a 1d array was expected. Please change the shape of y to (n_samples, ), for example using ravel().\n",
      "  y = column_or_1d(y, warn=True)\n",
      "/home/diego/miniconda3/envs/pandas-env/lib/python3.12/site-packages/sklearn/ensemble/_weight_boosting.py:527: FutureWarning: The SAMME.R algorithm (the default) is deprecated and will be removed in 1.6. Use the SAMME algorithm to circumvent this warning.\n",
      "  warnings.warn(\n",
      "/home/diego/miniconda3/envs/pandas-env/lib/python3.12/site-packages/sklearn/utils/validation.py:1339: DataConversionWarning: A column-vector y was passed when a 1d array was expected. Please change the shape of y to (n_samples, ), for example using ravel().\n",
      "  y = column_or_1d(y, warn=True)\n",
      "/home/diego/miniconda3/envs/pandas-env/lib/python3.12/site-packages/sklearn/ensemble/_weight_boosting.py:527: FutureWarning: The SAMME.R algorithm (the default) is deprecated and will be removed in 1.6. Use the SAMME algorithm to circumvent this warning.\n",
      "  warnings.warn(\n",
      "/home/diego/miniconda3/envs/pandas-env/lib/python3.12/site-packages/sklearn/utils/validation.py:1339: DataConversionWarning: A column-vector y was passed when a 1d array was expected. Please change the shape of y to (n_samples, ), for example using ravel().\n",
      "  y = column_or_1d(y, warn=True)\n",
      "/home/diego/miniconda3/envs/pandas-env/lib/python3.12/site-packages/sklearn/ensemble/_weight_boosting.py:527: FutureWarning: The SAMME.R algorithm (the default) is deprecated and will be removed in 1.6. Use the SAMME algorithm to circumvent this warning.\n",
      "  warnings.warn(\n",
      "/home/diego/miniconda3/envs/pandas-env/lib/python3.12/site-packages/sklearn/utils/validation.py:1339: DataConversionWarning: A column-vector y was passed when a 1d array was expected. Please change the shape of y to (n_samples, ), for example using ravel().\n",
      "  y = column_or_1d(y, warn=True)\n",
      "/home/diego/miniconda3/envs/pandas-env/lib/python3.12/site-packages/sklearn/ensemble/_weight_boosting.py:527: FutureWarning: The SAMME.R algorithm (the default) is deprecated and will be removed in 1.6. Use the SAMME algorithm to circumvent this warning.\n",
      "  warnings.warn(\n",
      "/home/diego/miniconda3/envs/pandas-env/lib/python3.12/site-packages/sklearn/utils/validation.py:1339: DataConversionWarning: A column-vector y was passed when a 1d array was expected. Please change the shape of y to (n_samples, ), for example using ravel().\n",
      "  y = column_or_1d(y, warn=True)\n",
      "/home/diego/miniconda3/envs/pandas-env/lib/python3.12/site-packages/sklearn/ensemble/_weight_boosting.py:527: FutureWarning: The SAMME.R algorithm (the default) is deprecated and will be removed in 1.6. Use the SAMME algorithm to circumvent this warning.\n",
      "  warnings.warn(\n",
      "/tmp/ipykernel_323974/3636145161.py:4: FutureWarning: The behavior of DataFrame concatenation with empty or all-NA entries is deprecated. In a future version, this will no longer exclude empty or all-NA columns when determining the result dtypes. To retain the old behavior, exclude the relevant entries before the concat operation.\n",
      "  results_cv = pd.concat([results_cv, model.cross_validate(train_X.values, train_y.values, 5)])\n",
      "/home/diego/miniconda3/envs/pandas-env/lib/python3.12/site-packages/sklearn/neighbors/_classification.py:238: DataConversionWarning: A column-vector y was passed when a 1d array was expected. Please change the shape of y to (n_samples,), for example using ravel().\n",
      "  return self._fit(X, y)\n",
      "/home/diego/miniconda3/envs/pandas-env/lib/python3.12/site-packages/sklearn/neighbors/_classification.py:238: DataConversionWarning: A column-vector y was passed when a 1d array was expected. Please change the shape of y to (n_samples,), for example using ravel().\n",
      "  return self._fit(X, y)\n",
      "/home/diego/miniconda3/envs/pandas-env/lib/python3.12/site-packages/sklearn/neighbors/_classification.py:238: DataConversionWarning: A column-vector y was passed when a 1d array was expected. Please change the shape of y to (n_samples,), for example using ravel().\n",
      "  return self._fit(X, y)\n",
      "/home/diego/miniconda3/envs/pandas-env/lib/python3.12/site-packages/sklearn/neighbors/_classification.py:238: DataConversionWarning: A column-vector y was passed when a 1d array was expected. Please change the shape of y to (n_samples,), for example using ravel().\n",
      "  return self._fit(X, y)\n",
      "/home/diego/miniconda3/envs/pandas-env/lib/python3.12/site-packages/sklearn/neighbors/_classification.py:238: DataConversionWarning: A column-vector y was passed when a 1d array was expected. Please change the shape of y to (n_samples,), for example using ravel().\n",
      "  return self._fit(X, y)\n",
      "/home/diego/miniconda3/envs/pandas-env/lib/python3.12/site-packages/sklearn/base.py:1473: DataConversionWarning: A column-vector y was passed when a 1d array was expected. Please change the shape of y to (n_samples,), for example using ravel().\n",
      "  return fit_method(estimator, *args, **kwargs)\n",
      "/home/diego/miniconda3/envs/pandas-env/lib/python3.12/site-packages/sklearn/base.py:1473: DataConversionWarning: A column-vector y was passed when a 1d array was expected. Please change the shape of y to (n_samples,), for example using ravel().\n",
      "  return fit_method(estimator, *args, **kwargs)\n",
      "/home/diego/miniconda3/envs/pandas-env/lib/python3.12/site-packages/sklearn/base.py:1473: DataConversionWarning: A column-vector y was passed when a 1d array was expected. Please change the shape of y to (n_samples,), for example using ravel().\n",
      "  return fit_method(estimator, *args, **kwargs)\n",
      "/home/diego/miniconda3/envs/pandas-env/lib/python3.12/site-packages/sklearn/base.py:1473: DataConversionWarning: A column-vector y was passed when a 1d array was expected. Please change the shape of y to (n_samples,), for example using ravel().\n",
      "  return fit_method(estimator, *args, **kwargs)\n",
      "/home/diego/miniconda3/envs/pandas-env/lib/python3.12/site-packages/sklearn/base.py:1473: DataConversionWarning: A column-vector y was passed when a 1d array was expected. Please change the shape of y to (n_samples,), for example using ravel().\n",
      "  return fit_method(estimator, *args, **kwargs)\n",
      "/home/diego/miniconda3/envs/pandas-env/lib/python3.12/site-packages/sklearn/utils/validation.py:1339: DataConversionWarning: A column-vector y was passed when a 1d array was expected. Please change the shape of y to (n_samples, ), for example using ravel().\n",
      "  y = column_or_1d(y, warn=True)\n",
      "/home/diego/miniconda3/envs/pandas-env/lib/python3.12/site-packages/sklearn/utils/validation.py:1339: DataConversionWarning: A column-vector y was passed when a 1d array was expected. Please change the shape of y to (n_samples, ), for example using ravel().\n",
      "  y = column_or_1d(y, warn=True)\n",
      "/home/diego/miniconda3/envs/pandas-env/lib/python3.12/site-packages/sklearn/utils/validation.py:1339: DataConversionWarning: A column-vector y was passed when a 1d array was expected. Please change the shape of y to (n_samples, ), for example using ravel().\n",
      "  y = column_or_1d(y, warn=True)\n",
      "/home/diego/miniconda3/envs/pandas-env/lib/python3.12/site-packages/sklearn/utils/validation.py:1339: DataConversionWarning: A column-vector y was passed when a 1d array was expected. Please change the shape of y to (n_samples, ), for example using ravel().\n",
      "  y = column_or_1d(y, warn=True)\n",
      "/home/diego/miniconda3/envs/pandas-env/lib/python3.12/site-packages/sklearn/utils/validation.py:1339: DataConversionWarning: A column-vector y was passed when a 1d array was expected. Please change the shape of y to (n_samples, ), for example using ravel().\n",
      "  y = column_or_1d(y, warn=True)\n",
      "/home/diego/miniconda3/envs/pandas-env/lib/python3.12/site-packages/sklearn/utils/validation.py:1339: DataConversionWarning: A column-vector y was passed when a 1d array was expected. Please change the shape of y to (n_samples, ), for example using ravel().\n",
      "  y = column_or_1d(y, warn=True)\n",
      "/home/diego/miniconda3/envs/pandas-env/lib/python3.12/site-packages/sklearn/utils/validation.py:1339: DataConversionWarning: A column-vector y was passed when a 1d array was expected. Please change the shape of y to (n_samples, ), for example using ravel().\n",
      "  y = column_or_1d(y, warn=True)\n",
      "/home/diego/miniconda3/envs/pandas-env/lib/python3.12/site-packages/sklearn/utils/validation.py:1339: DataConversionWarning: A column-vector y was passed when a 1d array was expected. Please change the shape of y to (n_samples, ), for example using ravel().\n",
      "  y = column_or_1d(y, warn=True)\n",
      "/home/diego/miniconda3/envs/pandas-env/lib/python3.12/site-packages/sklearn/utils/validation.py:1339: DataConversionWarning: A column-vector y was passed when a 1d array was expected. Please change the shape of y to (n_samples, ), for example using ravel().\n",
      "  y = column_or_1d(y, warn=True)\n",
      "/home/diego/miniconda3/envs/pandas-env/lib/python3.12/site-packages/sklearn/utils/validation.py:1339: DataConversionWarning: A column-vector y was passed when a 1d array was expected. Please change the shape of y to (n_samples, ), for example using ravel().\n",
      "  y = column_or_1d(y, warn=True)\n"
     ]
    },
    {
     "data": {
      "text/html": [
       "<div>\n",
       "<style scoped>\n",
       "    .dataframe tbody tr th:only-of-type {\n",
       "        vertical-align: middle;\n",
       "    }\n",
       "\n",
       "    .dataframe tbody tr th {\n",
       "        vertical-align: top;\n",
       "    }\n",
       "\n",
       "    .dataframe thead th {\n",
       "        text-align: right;\n",
       "    }\n",
       "</style>\n",
       "<table border=\"1\" class=\"dataframe\">\n",
       "  <thead>\n",
       "    <tr style=\"text-align: right;\">\n",
       "      <th></th>\n",
       "      <th>scaler</th>\n",
       "      <th>algorithm</th>\n",
       "      <th>cv</th>\n",
       "    </tr>\n",
       "  </thead>\n",
       "  <tbody>\n",
       "    <tr>\n",
       "      <th>0</th>\n",
       "      <td>std</td>\n",
       "      <td>ada</td>\n",
       "      <td>1.000000</td>\n",
       "    </tr>\n",
       "    <tr>\n",
       "      <th>0</th>\n",
       "      <td>std</td>\n",
       "      <td>dt</td>\n",
       "      <td>1.000000</td>\n",
       "    </tr>\n",
       "    <tr>\n",
       "      <th>0</th>\n",
       "      <td>std</td>\n",
       "      <td>knn</td>\n",
       "      <td>0.481529</td>\n",
       "    </tr>\n",
       "    <tr>\n",
       "      <th>0</th>\n",
       "      <td>std</td>\n",
       "      <td>rf</td>\n",
       "      <td>0.964331</td>\n",
       "    </tr>\n",
       "    <tr>\n",
       "      <th>0</th>\n",
       "      <td>std</td>\n",
       "      <td>sdgc</td>\n",
       "      <td>0.878981</td>\n",
       "    </tr>\n",
       "    <tr>\n",
       "      <th>0</th>\n",
       "      <td>std</td>\n",
       "      <td>svm</td>\n",
       "      <td>0.761783</td>\n",
       "    </tr>\n",
       "  </tbody>\n",
       "</table>\n",
       "</div>"
      ],
      "text/plain": [
       "  scaler algorithm        cv\n",
       "0    std       ada  1.000000\n",
       "0    std        dt  1.000000\n",
       "0    std       knn  0.481529\n",
       "0    std        rf  0.964331\n",
       "0    std      sdgc  0.878981\n",
       "0    std       svm  0.761783"
      ]
     },
     "execution_count": 17,
     "metadata": {},
     "output_type": "execute_result"
    }
   ],
   "source": [
    "results_cv = pd.DataFrame(columns=[\"scaler\", \"algorithm\", \"cv\"])\n",
    "for model in models:\n",
    "    if model.scaler == \"std\":\n",
    "        results_cv = pd.concat([results_cv, model.cross_validate(train_X.values, train_y.values, 5)])\n",
    "results_cv"
   ]
  },
  {
   "cell_type": "code",
   "execution_count": 19,
   "id": "bdbb2ca6",
   "metadata": {},
   "outputs": [
    {
     "name": "stderr",
     "output_type": "stream",
     "text": [
      "/home/diego/miniconda3/envs/pandas-env/lib/python3.12/site-packages/sklearn/utils/validation.py:1339: DataConversionWarning: A column-vector y was passed when a 1d array was expected. Please change the shape of y to (n_samples, ), for example using ravel().\n",
      "  y = column_or_1d(y, warn=True)\n",
      "/home/diego/miniconda3/envs/pandas-env/lib/python3.12/site-packages/sklearn/ensemble/_weight_boosting.py:527: FutureWarning: The SAMME.R algorithm (the default) is deprecated and will be removed in 1.6. Use the SAMME algorithm to circumvent this warning.\n",
      "  warnings.warn(\n",
      "/home/diego/miniconda3/envs/pandas-env/lib/python3.12/site-packages/sklearn/utils/validation.py:1339: DataConversionWarning: A column-vector y was passed when a 1d array was expected. Please change the shape of y to (n_samples, ), for example using ravel().\n",
      "  y = column_or_1d(y, warn=True)\n",
      "/home/diego/miniconda3/envs/pandas-env/lib/python3.12/site-packages/sklearn/ensemble/_weight_boosting.py:527: FutureWarning: The SAMME.R algorithm (the default) is deprecated and will be removed in 1.6. Use the SAMME algorithm to circumvent this warning.\n",
      "  warnings.warn(\n",
      "/home/diego/miniconda3/envs/pandas-env/lib/python3.12/site-packages/sklearn/utils/validation.py:1339: DataConversionWarning: A column-vector y was passed when a 1d array was expected. Please change the shape of y to (n_samples, ), for example using ravel().\n",
      "  y = column_or_1d(y, warn=True)\n",
      "/home/diego/miniconda3/envs/pandas-env/lib/python3.12/site-packages/sklearn/ensemble/_weight_boosting.py:527: FutureWarning: The SAMME.R algorithm (the default) is deprecated and will be removed in 1.6. Use the SAMME algorithm to circumvent this warning.\n",
      "  warnings.warn(\n",
      "/home/diego/miniconda3/envs/pandas-env/lib/python3.12/site-packages/sklearn/utils/validation.py:1339: DataConversionWarning: A column-vector y was passed when a 1d array was expected. Please change the shape of y to (n_samples, ), for example using ravel().\n",
      "  y = column_or_1d(y, warn=True)\n",
      "/home/diego/miniconda3/envs/pandas-env/lib/python3.12/site-packages/sklearn/ensemble/_weight_boosting.py:527: FutureWarning: The SAMME.R algorithm (the default) is deprecated and will be removed in 1.6. Use the SAMME algorithm to circumvent this warning.\n",
      "  warnings.warn(\n",
      "/home/diego/miniconda3/envs/pandas-env/lib/python3.12/site-packages/sklearn/utils/validation.py:1339: DataConversionWarning: A column-vector y was passed when a 1d array was expected. Please change the shape of y to (n_samples, ), for example using ravel().\n",
      "  y = column_or_1d(y, warn=True)\n",
      "/home/diego/miniconda3/envs/pandas-env/lib/python3.12/site-packages/sklearn/ensemble/_weight_boosting.py:527: FutureWarning: The SAMME.R algorithm (the default) is deprecated and will be removed in 1.6. Use the SAMME algorithm to circumvent this warning.\n",
      "  warnings.warn(\n",
      "/tmp/ipykernel_323974/3379554490.py:4: FutureWarning: The behavior of DataFrame concatenation with empty or all-NA entries is deprecated. In a future version, this will no longer exclude empty or all-NA columns when determining the result dtypes. To retain the old behavior, exclude the relevant entries before the concat operation.\n",
      "  results_cv = pd.concat([results_cv, model.cv_predict(train_X.values, train_y.values, 5)])\n",
      "/home/diego/miniconda3/envs/pandas-env/lib/python3.12/site-packages/sklearn/neighbors/_classification.py:238: DataConversionWarning: A column-vector y was passed when a 1d array was expected. Please change the shape of y to (n_samples,), for example using ravel().\n",
      "  return self._fit(X, y)\n",
      "/home/diego/miniconda3/envs/pandas-env/lib/python3.12/site-packages/sklearn/neighbors/_classification.py:238: DataConversionWarning: A column-vector y was passed when a 1d array was expected. Please change the shape of y to (n_samples,), for example using ravel().\n",
      "  return self._fit(X, y)\n",
      "/home/diego/miniconda3/envs/pandas-env/lib/python3.12/site-packages/sklearn/neighbors/_classification.py:238: DataConversionWarning: A column-vector y was passed when a 1d array was expected. Please change the shape of y to (n_samples,), for example using ravel().\n",
      "  return self._fit(X, y)\n",
      "/home/diego/miniconda3/envs/pandas-env/lib/python3.12/site-packages/sklearn/neighbors/_classification.py:238: DataConversionWarning: A column-vector y was passed when a 1d array was expected. Please change the shape of y to (n_samples,), for example using ravel().\n",
      "  return self._fit(X, y)\n",
      "/home/diego/miniconda3/envs/pandas-env/lib/python3.12/site-packages/sklearn/neighbors/_classification.py:238: DataConversionWarning: A column-vector y was passed when a 1d array was expected. Please change the shape of y to (n_samples,), for example using ravel().\n",
      "  return self._fit(X, y)\n",
      "/home/diego/miniconda3/envs/pandas-env/lib/python3.12/site-packages/sklearn/base.py:1473: DataConversionWarning: A column-vector y was passed when a 1d array was expected. Please change the shape of y to (n_samples,), for example using ravel().\n",
      "  return fit_method(estimator, *args, **kwargs)\n",
      "/home/diego/miniconda3/envs/pandas-env/lib/python3.12/site-packages/sklearn/base.py:1473: DataConversionWarning: A column-vector y was passed when a 1d array was expected. Please change the shape of y to (n_samples,), for example using ravel().\n",
      "  return fit_method(estimator, *args, **kwargs)\n",
      "/home/diego/miniconda3/envs/pandas-env/lib/python3.12/site-packages/sklearn/base.py:1473: DataConversionWarning: A column-vector y was passed when a 1d array was expected. Please change the shape of y to (n_samples,), for example using ravel().\n",
      "  return fit_method(estimator, *args, **kwargs)\n",
      "/home/diego/miniconda3/envs/pandas-env/lib/python3.12/site-packages/sklearn/base.py:1473: DataConversionWarning: A column-vector y was passed when a 1d array was expected. Please change the shape of y to (n_samples,), for example using ravel().\n",
      "  return fit_method(estimator, *args, **kwargs)\n",
      "/home/diego/miniconda3/envs/pandas-env/lib/python3.12/site-packages/sklearn/base.py:1473: DataConversionWarning: A column-vector y was passed when a 1d array was expected. Please change the shape of y to (n_samples,), for example using ravel().\n",
      "  return fit_method(estimator, *args, **kwargs)\n",
      "/home/diego/miniconda3/envs/pandas-env/lib/python3.12/site-packages/sklearn/utils/validation.py:1339: DataConversionWarning: A column-vector y was passed when a 1d array was expected. Please change the shape of y to (n_samples, ), for example using ravel().\n",
      "  y = column_or_1d(y, warn=True)\n",
      "/home/diego/miniconda3/envs/pandas-env/lib/python3.12/site-packages/sklearn/utils/validation.py:1339: DataConversionWarning: A column-vector y was passed when a 1d array was expected. Please change the shape of y to (n_samples, ), for example using ravel().\n",
      "  y = column_or_1d(y, warn=True)\n",
      "/home/diego/miniconda3/envs/pandas-env/lib/python3.12/site-packages/sklearn/utils/validation.py:1339: DataConversionWarning: A column-vector y was passed when a 1d array was expected. Please change the shape of y to (n_samples, ), for example using ravel().\n",
      "  y = column_or_1d(y, warn=True)\n",
      "/home/diego/miniconda3/envs/pandas-env/lib/python3.12/site-packages/sklearn/utils/validation.py:1339: DataConversionWarning: A column-vector y was passed when a 1d array was expected. Please change the shape of y to (n_samples, ), for example using ravel().\n",
      "  y = column_or_1d(y, warn=True)\n",
      "/home/diego/miniconda3/envs/pandas-env/lib/python3.12/site-packages/sklearn/utils/validation.py:1339: DataConversionWarning: A column-vector y was passed when a 1d array was expected. Please change the shape of y to (n_samples, ), for example using ravel().\n",
      "  y = column_or_1d(y, warn=True)\n",
      "/home/diego/miniconda3/envs/pandas-env/lib/python3.12/site-packages/sklearn/utils/validation.py:1339: DataConversionWarning: A column-vector y was passed when a 1d array was expected. Please change the shape of y to (n_samples, ), for example using ravel().\n",
      "  y = column_or_1d(y, warn=True)\n",
      "/home/diego/miniconda3/envs/pandas-env/lib/python3.12/site-packages/sklearn/utils/validation.py:1339: DataConversionWarning: A column-vector y was passed when a 1d array was expected. Please change the shape of y to (n_samples, ), for example using ravel().\n",
      "  y = column_or_1d(y, warn=True)\n",
      "/home/diego/miniconda3/envs/pandas-env/lib/python3.12/site-packages/sklearn/utils/validation.py:1339: DataConversionWarning: A column-vector y was passed when a 1d array was expected. Please change the shape of y to (n_samples, ), for example using ravel().\n",
      "  y = column_or_1d(y, warn=True)\n",
      "/home/diego/miniconda3/envs/pandas-env/lib/python3.12/site-packages/sklearn/utils/validation.py:1339: DataConversionWarning: A column-vector y was passed when a 1d array was expected. Please change the shape of y to (n_samples, ), for example using ravel().\n",
      "  y = column_or_1d(y, warn=True)\n",
      "/home/diego/miniconda3/envs/pandas-env/lib/python3.12/site-packages/sklearn/utils/validation.py:1339: DataConversionWarning: A column-vector y was passed when a 1d array was expected. Please change the shape of y to (n_samples, ), for example using ravel().\n",
      "  y = column_or_1d(y, warn=True)\n"
     ]
    },
    {
     "data": {
      "text/html": [
       "<div>\n",
       "<style scoped>\n",
       "    .dataframe tbody tr th:only-of-type {\n",
       "        vertical-align: middle;\n",
       "    }\n",
       "\n",
       "    .dataframe tbody tr th {\n",
       "        vertical-align: top;\n",
       "    }\n",
       "\n",
       "    .dataframe thead th {\n",
       "        text-align: right;\n",
       "    }\n",
       "</style>\n",
       "<table border=\"1\" class=\"dataframe\">\n",
       "  <thead>\n",
       "    <tr style=\"text-align: right;\">\n",
       "      <th></th>\n",
       "      <th>scaler</th>\n",
       "      <th>algorithm</th>\n",
       "      <th>acc</th>\n",
       "      <th>recall</th>\n",
       "      <th>precision</th>\n",
       "      <th>f1</th>\n",
       "      <th>mcc</th>\n",
       "      <th>cm</th>\n",
       "    </tr>\n",
       "  </thead>\n",
       "  <tbody>\n",
       "    <tr>\n",
       "      <th>0</th>\n",
       "      <td>std</td>\n",
       "      <td>ada</td>\n",
       "      <td>1.000000</td>\n",
       "      <td>1.000000</td>\n",
       "      <td>1.000000</td>\n",
       "      <td>1.000000</td>\n",
       "      <td>1.000000</td>\n",
       "      <td>[[444, 0], [0, 341]]</td>\n",
       "    </tr>\n",
       "    <tr>\n",
       "      <th>0</th>\n",
       "      <td>std</td>\n",
       "      <td>dt</td>\n",
       "      <td>1.000000</td>\n",
       "      <td>1.000000</td>\n",
       "      <td>1.000000</td>\n",
       "      <td>1.000000</td>\n",
       "      <td>1.000000</td>\n",
       "      <td>[[444, 0], [0, 341]]</td>\n",
       "    </tr>\n",
       "    <tr>\n",
       "      <th>0</th>\n",
       "      <td>std</td>\n",
       "      <td>knn</td>\n",
       "      <td>0.481529</td>\n",
       "      <td>0.917889</td>\n",
       "      <td>0.452312</td>\n",
       "      <td>0.606002</td>\n",
       "      <td>0.098602</td>\n",
       "      <td>[[65, 379], [28, 313]]</td>\n",
       "    </tr>\n",
       "    <tr>\n",
       "      <th>0</th>\n",
       "      <td>std</td>\n",
       "      <td>rf</td>\n",
       "      <td>0.971975</td>\n",
       "      <td>0.944282</td>\n",
       "      <td>0.990769</td>\n",
       "      <td>0.966967</td>\n",
       "      <td>0.943476</td>\n",
       "      <td>[[441, 3], [19, 322]]</td>\n",
       "    </tr>\n",
       "    <tr>\n",
       "      <th>0</th>\n",
       "      <td>std</td>\n",
       "      <td>sdgc</td>\n",
       "      <td>0.862420</td>\n",
       "      <td>0.970674</td>\n",
       "      <td>0.771562</td>\n",
       "      <td>0.859740</td>\n",
       "      <td>0.746706</td>\n",
       "      <td>[[346, 98], [10, 331]]</td>\n",
       "    </tr>\n",
       "    <tr>\n",
       "      <th>0</th>\n",
       "      <td>std</td>\n",
       "      <td>svm</td>\n",
       "      <td>0.761783</td>\n",
       "      <td>0.513196</td>\n",
       "      <td>0.892857</td>\n",
       "      <td>0.651769</td>\n",
       "      <td>0.533550</td>\n",
       "      <td>[[423, 21], [166, 175]]</td>\n",
       "    </tr>\n",
       "  </tbody>\n",
       "</table>\n",
       "</div>"
      ],
      "text/plain": [
       "  scaler algorithm       acc    recall  precision        f1       mcc  \\\n",
       "0    std       ada  1.000000  1.000000   1.000000  1.000000  1.000000   \n",
       "0    std        dt  1.000000  1.000000   1.000000  1.000000  1.000000   \n",
       "0    std       knn  0.481529  0.917889   0.452312  0.606002  0.098602   \n",
       "0    std        rf  0.971975  0.944282   0.990769  0.966967  0.943476   \n",
       "0    std      sdgc  0.862420  0.970674   0.771562  0.859740  0.746706   \n",
       "0    std       svm  0.761783  0.513196   0.892857  0.651769  0.533550   \n",
       "\n",
       "                        cm  \n",
       "0     [[444, 0], [0, 341]]  \n",
       "0     [[444, 0], [0, 341]]  \n",
       "0   [[65, 379], [28, 313]]  \n",
       "0    [[441, 3], [19, 322]]  \n",
       "0   [[346, 98], [10, 331]]  \n",
       "0  [[423, 21], [166, 175]]  "
      ]
     },
     "execution_count": 19,
     "metadata": {},
     "output_type": "execute_result"
    }
   ],
   "source": [
    "results_cv = pd.DataFrame(columns=[\"scaler\", \"algorithm\",\"acc\", \"recall\", \"precision\", \"f1\", \"mcc\", \"cm\"])\n",
    "for model in models:\n",
    "    if model.scaler == \"std\":\n",
    "        results_cv = pd.concat([results_cv, model.cv_predict(train_X.values, train_y.values, 5)])\n",
    "results_cv"
   ]
  },
  {
   "cell_type": "markdown",
   "id": "14dbae8d",
   "metadata": {},
   "source": [
    "### Antiguo codigo"
   ]
  },
  {
   "cell_type": "code",
   "execution_count": 76,
   "id": "ba81d339-7f4a-4773-8c0f-ec01232ef26b",
   "metadata": {},
   "outputs": [],
   "source": [
    "standard_scaler = load(\"results/std_scaler.joblib\")\n",
    "minmax_scaler = load(\"results/minmax_scaler.joblib\")\n",
    "robust_scaler = load(\"results/robust_scaler.joblib\")\n",
    "knn_model = load(\"results/knn_model_std.joblib\")\n",
    "rf_model = load(\"results/rf_model_std.joblib\")\n",
    "svm_model = load(\"results/svm_model_std.joblib\")\n",
    "dt_model = load(\"results/dt_model_std.joblib\")\n",
    "sgdc_model = load(\"results/sdgc_model_std.joblib\")\n",
    "ada_model = load(\"results/ada_model_std.joblib\")"
   ]
  },
  {
   "cell_type": "code",
   "execution_count": 77,
   "id": "f0ea6473-bd6c-4d13-ad2f-cef6b12fe5a1",
   "metadata": {},
   "outputs": [],
   "source": [
    "val_data = pd.read_csv(\"data_separated/val_data.csv\")\n",
    "test_data = pd.read_csv(\"data_separated/test_data.csv\")\n",
    "\n",
    "y_val = pd.read_csv(\"data_separated/y_val.csv\")\n",
    "y_test = pd.read_csv(\"data_separated/y_test.csv\")"
   ]
  },
  {
   "cell_type": "code",
   "execution_count": 33,
   "id": "64a61555-e713-4764-adf9-eda9362dcf91",
   "metadata": {},
   "outputs": [
    {
     "name": "stderr",
     "output_type": "stream",
     "text": [
      "/home/diegof/miniconda3/envs/pandas-env/lib/python3.12/site-packages/sklearn/base.py:493: UserWarning: X does not have valid feature names, but KNeighborsClassifier was fitted with feature names\n",
      "  warnings.warn(\n",
      "/home/diegof/miniconda3/envs/pandas-env/lib/python3.12/site-packages/sklearn/base.py:493: UserWarning: X does not have valid feature names, but KNeighborsClassifier was fitted with feature names\n",
      "  warnings.warn(\n"
     ]
    }
   ],
   "source": [
    "predict_val_knn = knn_model.predict(X=val_data_scaler)\n",
    "predict_test_knn = knn_model.predict(X=test_data_scaler)"
   ]
  },
  {
   "cell_type": "code",
   "execution_count": 31,
   "id": "fdb15c8c-3008-47c9-99ea-dec6dd7c49c0",
   "metadata": {},
   "outputs": [
    {
     "name": "stderr",
     "output_type": "stream",
     "text": [
      "/home/diegof/miniconda3/envs/pandas-env/lib/python3.12/site-packages/sklearn/base.py:493: UserWarning: X does not have valid feature names, but RandomForestClassifier was fitted with feature names\n",
      "  warnings.warn(\n",
      "/home/diegof/miniconda3/envs/pandas-env/lib/python3.12/site-packages/sklearn/base.py:493: UserWarning: X does not have valid feature names, but RandomForestClassifier was fitted with feature names\n",
      "  warnings.warn(\n"
     ]
    }
   ],
   "source": [
    "predict_val_rf = rf_model.predict(X=val_data_scaler)\n",
    "predict_test_rf = rf_model.predict(X=test_data_scaler)"
   ]
  },
  {
   "cell_type": "code",
   "execution_count": 36,
   "id": "62d3cacc-cf20-497c-ae17-87653ea0b469",
   "metadata": {},
   "outputs": [
    {
     "name": "stderr",
     "output_type": "stream",
     "text": [
      "/home/diegof/miniconda3/envs/pandas-env/lib/python3.12/site-packages/sklearn/base.py:493: UserWarning: X does not have valid feature names, but SVC was fitted with feature names\n",
      "  warnings.warn(\n",
      "/home/diegof/miniconda3/envs/pandas-env/lib/python3.12/site-packages/sklearn/base.py:493: UserWarning: X does not have valid feature names, but SVC was fitted with feature names\n",
      "  warnings.warn(\n"
     ]
    }
   ],
   "source": [
    "predict_val_svm = svm_model.predict(X=val_data_scaler)\n",
    "predict_test_svm = svm_model.predict(X=test_data_scaler)"
   ]
  },
  {
   "cell_type": "code",
   "execution_count": 37,
   "id": "cd6dc4ea-4c01-4de0-a4e9-79f4c48fd83c",
   "metadata": {},
   "outputs": [
    {
     "name": "stderr",
     "output_type": "stream",
     "text": [
      "/home/diegof/miniconda3/envs/pandas-env/lib/python3.12/site-packages/sklearn/base.py:493: UserWarning: X does not have valid feature names, but DecisionTreeClassifier was fitted with feature names\n",
      "  warnings.warn(\n",
      "/home/diegof/miniconda3/envs/pandas-env/lib/python3.12/site-packages/sklearn/base.py:493: UserWarning: X does not have valid feature names, but DecisionTreeClassifier was fitted with feature names\n",
      "  warnings.warn(\n"
     ]
    }
   ],
   "source": [
    "predict_val_dt = dt_model.predict(X=val_data_scaler)\n",
    "predict_test_dt = dt_model.predict(X=test_data_scaler)"
   ]
  },
  {
   "cell_type": "code",
   "execution_count": 38,
   "id": "5e56afc2-175e-4f09-a5bb-08d912429401",
   "metadata": {},
   "outputs": [
    {
     "name": "stderr",
     "output_type": "stream",
     "text": [
      "/home/diegof/miniconda3/envs/pandas-env/lib/python3.12/site-packages/sklearn/base.py:493: UserWarning: X does not have valid feature names, but SGDClassifier was fitted with feature names\n",
      "  warnings.warn(\n",
      "/home/diegof/miniconda3/envs/pandas-env/lib/python3.12/site-packages/sklearn/base.py:493: UserWarning: X does not have valid feature names, but SGDClassifier was fitted with feature names\n",
      "  warnings.warn(\n"
     ]
    }
   ],
   "source": [
    "predict_val_sgdc = sgdc_model.predict(X=val_data_scaler)\n",
    "predict_test_sgdc = sgdc_model.predict(X=test_data_scaler)"
   ]
  },
  {
   "cell_type": "code",
   "execution_count": 87,
   "id": "1d1a71b9-6748-4982-9990-95f957be3d91",
   "metadata": {},
   "outputs": [
    {
     "name": "stderr",
     "output_type": "stream",
     "text": [
      "/home/diegof/miniconda3/envs/pandas-env/lib/python3.12/site-packages/sklearn/base.py:493: UserWarning: X does not have valid feature names, but AdaBoostClassifier was fitted with feature names\n",
      "  warnings.warn(\n",
      "/home/diegof/miniconda3/envs/pandas-env/lib/python3.12/site-packages/sklearn/base.py:493: UserWarning: X does not have valid feature names, but AdaBoostClassifier was fitted with feature names\n",
      "  warnings.warn(\n"
     ]
    }
   ],
   "source": [
    "predict_val_ada = ada_model.predict(X=val_data_scaler)\n",
    "predict_test_ada = ada_model.predict(X=test_data_scaler)"
   ]
  },
  {
   "cell_type": "code",
   "execution_count": 46,
   "id": "33027166-4e66-4c28-b189-18f237fe137e",
   "metadata": {},
   "outputs": [
    {
     "data": {
      "text/plain": [
       "[0.6285714285714286,\n",
       " np.float64(0.6555555555555556),\n",
       " np.float64(0.6344086021505376),\n",
       " np.float64(0.644808743169399),\n",
       " np.float64(0.25595737271495583),\n",
       " array([[51, 34],\n",
       "        [31, 59]])]"
      ]
     },
     "execution_count": 46,
     "metadata": {},
     "output_type": "execute_result"
    }
   ],
   "source": [
    "get_metrics(predict_val_knn, y_val)"
   ]
  },
  {
   "cell_type": "code",
   "execution_count": 49,
   "id": "a505d8c4-a9f8-48ee-9763-424cd0730f0c",
   "metadata": {},
   "outputs": [
    {
     "data": {
      "text/plain": [
       "[0.6804123711340206,\n",
       " np.float64(0.7567567567567568),\n",
       " np.float64(0.56),\n",
       " np.float64(0.6436781609195402),\n",
       " np.float64(0.37914686876298165),\n",
       " array([[38, 22],\n",
       "        [ 9, 28]])]"
      ]
     },
     "execution_count": 49,
     "metadata": {},
     "output_type": "execute_result"
    }
   ],
   "source": [
    "get_metrics(predict_test_knn, y_test)"
   ]
  },
  {
   "cell_type": "code",
   "execution_count": 48,
   "id": "915b191f-17a1-4c31-b560-5b8d2f2b6d48",
   "metadata": {},
   "outputs": [
    {
     "data": {
      "text/plain": [
       "[0.7942857142857143,\n",
       " np.float64(0.8111111111111111),\n",
       " np.float64(0.7934782608695652),\n",
       " np.float64(0.8021978021978022),\n",
       " np.float64(0.5881200948904004),\n",
       " array([[66, 19],\n",
       "        [17, 73]])]"
      ]
     },
     "execution_count": 48,
     "metadata": {},
     "output_type": "execute_result"
    }
   ],
   "source": [
    "get_metrics(predict_val_rf, y_val)"
   ]
  },
  {
   "cell_type": "code",
   "execution_count": 50,
   "id": "c2dcb613-23c2-4288-9eed-7d4e73ecef9e",
   "metadata": {},
   "outputs": [
    {
     "data": {
      "text/plain": [
       "[0.7525773195876289,\n",
       " np.float64(0.8378378378378378),\n",
       " np.float64(0.6326530612244898),\n",
       " np.float64(0.7209302325581395),\n",
       " np.float64(0.522527534988099),\n",
       " array([[42, 18],\n",
       "        [ 6, 31]])]"
      ]
     },
     "execution_count": 50,
     "metadata": {},
     "output_type": "execute_result"
    }
   ],
   "source": [
    "get_metrics(predict_test_rf, y_test)"
   ]
  },
  {
   "cell_type": "code",
   "execution_count": 81,
   "id": "07f3c493-6b96-4077-84ee-8c575d152e35",
   "metadata": {},
   "outputs": [
    {
     "data": {
      "text/plain": [
       "[0.6285714285714286,\n",
       " np.float64(0.6555555555555556),\n",
       " np.float64(0.6344086021505376),\n",
       " np.float64(0.644808743169399),\n",
       " np.float64(0.25595737271495583),\n",
       " array([[51, 34],\n",
       "        [31, 59]])]"
      ]
     },
     "execution_count": 81,
     "metadata": {},
     "output_type": "execute_result"
    }
   ],
   "source": [
    "get_metrics(predict_val_knn, y_val)"
   ]
  },
  {
   "cell_type": "code",
   "execution_count": 51,
   "id": "89a82b03-01b0-45da-aad0-fba51f5a14ae",
   "metadata": {},
   "outputs": [
    {
     "data": {
      "text/plain": [
       "[0.6804123711340206,\n",
       " np.float64(0.7567567567567568),\n",
       " np.float64(0.56),\n",
       " np.float64(0.6436781609195402),\n",
       " np.float64(0.37914686876298165),\n",
       " array([[38, 22],\n",
       "        [ 9, 28]])]"
      ]
     },
     "execution_count": 51,
     "metadata": {},
     "output_type": "execute_result"
    }
   ],
   "source": [
    "get_metrics(predict_test_knn, y_test)"
   ]
  },
  {
   "cell_type": "code",
   "execution_count": 52,
   "id": "ff7202e5-5852-4a9f-85c0-c00eb5c9236c",
   "metadata": {},
   "outputs": [
    {
     "data": {
      "text/plain": [
       "[0.7371428571428571,\n",
       " np.float64(0.7333333333333333),\n",
       " np.float64(0.75),\n",
       " np.float64(0.7415730337078652),\n",
       " np.float64(0.4743238310341898),\n",
       " array([[63, 22],\n",
       "        [24, 66]])]"
      ]
     },
     "execution_count": 52,
     "metadata": {},
     "output_type": "execute_result"
    }
   ],
   "source": [
    "get_metrics(predict_val_dt, y_val)"
   ]
  },
  {
   "cell_type": "code",
   "execution_count": 83,
   "id": "ac2f000d-c8d7-40c3-a07a-038cc8ef0c29",
   "metadata": {},
   "outputs": [
    {
     "data": {
      "text/plain": [
       "[0.7422680412371134,\n",
       " np.float64(0.7027027027027027),\n",
       " np.float64(0.65),\n",
       " np.float64(0.6753246753246753),\n",
       " np.float64(0.4631522820327474),\n",
       " array([[46, 14],\n",
       "        [11, 26]])]"
      ]
     },
     "execution_count": 83,
     "metadata": {},
     "output_type": "execute_result"
    }
   ],
   "source": [
    "get_metrics(predict_test_dt, y_test)"
   ]
  },
  {
   "cell_type": "code",
   "execution_count": 84,
   "id": "9f9ebb62-cb7c-4217-8068-794fb2869b92",
   "metadata": {},
   "outputs": [
    {
     "data": {
      "text/plain": [
       "[0.7771428571428571,\n",
       " np.float64(0.7555555555555555),\n",
       " np.float64(0.8),\n",
       " np.float64(0.7771428571428571),\n",
       " np.float64(0.5555555555555556),\n",
       " array([[68, 17],\n",
       "        [22, 68]])]"
      ]
     },
     "execution_count": 84,
     "metadata": {},
     "output_type": "execute_result"
    }
   ],
   "source": [
    "get_metrics(predict_val_sgdc, y_val)"
   ]
  },
  {
   "cell_type": "code",
   "execution_count": 85,
   "id": "299fda87-3166-4f9c-b470-95cc7526900d",
   "metadata": {},
   "outputs": [
    {
     "data": {
      "text/plain": [
       "[0.7010309278350515,\n",
       " np.float64(0.6216216216216216),\n",
       " np.float64(0.6052631578947368),\n",
       " np.float64(0.6133333333333333),\n",
       " np.float64(0.36979382702249364),\n",
       " array([[45, 15],\n",
       "        [14, 23]])]"
      ]
     },
     "execution_count": 85,
     "metadata": {},
     "output_type": "execute_result"
    }
   ],
   "source": [
    "get_metrics(predict_test_sgdc, y_test)"
   ]
  },
  {
   "cell_type": "code",
   "execution_count": 89,
   "id": "aabef778-cd14-472d-b313-677e5e789be0",
   "metadata": {},
   "outputs": [
    {
     "data": {
      "text/plain": [
       "[0.8228571428571428,\n",
       " np.float64(0.8222222222222222),\n",
       " np.float64(0.8314606741573034),\n",
       " np.float64(0.8268156424581006),\n",
       " np.float64(0.645582876206969),\n",
       " array([[70, 15],\n",
       "        [16, 74]])]"
      ]
     },
     "execution_count": 89,
     "metadata": {},
     "output_type": "execute_result"
    }
   ],
   "source": [
    "get_metrics(predict_val_ada, y_val)"
   ]
  },
  {
   "cell_type": "code",
   "execution_count": 88,
   "id": "7ec15ab2-0eaa-4309-8368-c213604f322e",
   "metadata": {},
   "outputs": [
    {
     "data": {
      "text/plain": [
       "[0.7938144329896907,\n",
       " np.float64(0.7567567567567568),\n",
       " np.float64(0.717948717948718),\n",
       " np.float64(0.7368421052631579),\n",
       " np.float64(0.5680749201914252),\n",
       " array([[49, 11],\n",
       "        [ 9, 28]])]"
      ]
     },
     "execution_count": 88,
     "metadata": {},
     "output_type": "execute_result"
    }
   ],
   "source": [
    "get_metrics(predict_test_ada, y_test)"
   ]
  }
 ],
 "metadata": {
  "kernelspec": {
   "display_name": "Python 3 (ipykernel)",
   "language": "python",
   "name": "python3"
  },
  "language_info": {
   "codemirror_mode": {
    "name": "ipython",
    "version": 3
   },
   "file_extension": ".py",
   "mimetype": "text/x-python",
   "name": "python",
   "nbconvert_exporter": "python",
   "pygments_lexer": "ipython3",
   "version": "3.12.4"
  }
 },
 "nbformat": 4,
 "nbformat_minor": 5
}
