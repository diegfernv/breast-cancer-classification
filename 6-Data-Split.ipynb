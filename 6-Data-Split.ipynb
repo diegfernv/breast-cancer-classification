{
 "cells": [
  {
   "cell_type": "code",
   "execution_count": 9,
   "id": "b1db6424",
   "metadata": {},
   "outputs": [],
   "source": [
    "import os\n",
    "import pandas as pd\n",
    "import seaborn as sns\n",
    "import matplotlib as plt\n",
    "from sklearn.model_selection import train_test_split\n",
    "from sklearn.utils import resample\n",
    "import numpy as np"
   ]
  },
  {
   "cell_type": "code",
   "execution_count": 18,
   "id": "8399e785",
   "metadata": {},
   "outputs": [],
   "source": [
    "df = pd.read_csv('step_04/dataset_minmax.csv')\n",
    "response = pd.read_csv('step_04/response.csv')"
   ]
  },
  {
   "cell_type": "markdown",
   "id": "13327e27",
   "metadata": {},
   "source": [
    "## Separación en ( train (80) + val (20) )[90] + test [10]"
   ]
  },
  {
   "cell_type": "code",
   "execution_count": 19,
   "id": "3b0b6cd7-1232-4e0f-bcd7-ed41233c7a43",
   "metadata": {},
   "outputs": [],
   "source": [
    "X_train, X_test, y_train, y_test = train_test_split(df, response, test_size=0.1, random_state=255)\n",
    "X_train, X_val, y_train, y_val = train_test_split(X_train, y_train, test_size=0.2, random_state=255)"
   ]
  },
  {
   "cell_type": "code",
   "execution_count": 25,
   "id": "197910fc-85c3-4b4c-addb-3117282f2b06",
   "metadata": {},
   "outputs": [],
   "source": [
    "if not os.path.exists(\"data_separated\"):\n",
    "    os.mkdir(\"data_separated\")\n",
    "\n",
    "X_train.to_csv(\"data_separated/train_data.csv\", index=False)\n",
    "X_val.to_csv(\"data_separated/val_data.csv\", index=False)\n",
    "X_test.to_csv(\"data_separated/test_data.csv\", index=False)\n",
    "y_train.to_csv(\"data_separated/y_train.csv\", index=False)\n",
    "y_val.to_csv(\"data_separated/y_val.csv\", index=False)\n",
    "y_test.to_csv(\"data_separated/y_test.csv\", index=False)"
   ]
  },
  {
   "cell_type": "markdown",
   "id": "9994a37b",
   "metadata": {},
   "source": [
    "# Model testing"
   ]
  },
  {
   "cell_type": "code",
   "execution_count": 20,
   "id": "1e4dc3e9",
   "metadata": {},
   "outputs": [],
   "source": [
    "from joblib import dump\n",
    "\n",
    "from sklearn.neighbors import KNeighborsClassifier\n",
    "from sklearn.tree import DecisionTreeClassifier\n",
    "from sklearn.svm import SVC\n",
    "from sklearn.ensemble import RandomForestClassifier, AdaBoostClassifier\n",
    "from sklearn.linear_model import SGDClassifier\n",
    "\n",
    "from sklearn.metrics import accuracy_score, recall_score, precision_score, f1_score, matthews_corrcoef, confusion_matrix\n",
    "from sklearn.model_selection import cross_val_score, cross_val_predict"
   ]
  },
  {
   "cell_type": "code",
   "execution_count": 21,
   "id": "445f186e",
   "metadata": {},
   "outputs": [],
   "source": [
    "class Models():\n",
    "    knn_model = KNeighborsClassifier()\n",
    "    dt_model = DecisionTreeClassifier()\n",
    "    svm_model = SVC()\n",
    "    rf_model = RandomForestClassifier()\n",
    "    sgdc_model = SGDClassifier()\n",
    "    ada_model = AdaBoostClassifier()\n",
    "    \n",
    "    def train_all(self, data, response):\n",
    "        self.knn_model.fit(X=data, y=response)\n",
    "        self.dt_model.fit(X=data, y=response)\n",
    "        self.svm_model.fit(X=data, y=response)\n",
    "        self.rf_model.fit(X=data, y=response)\n",
    "        self.sgdc_model.fit(X=data, y=response)\n",
    "        self.ada_model.fit(X=data, y=response)\n",
    "\n",
    "    def save(self, sufix):\n",
    "        dump(self.rf_model, f\"models/rf_model_{sufix}.joblib\")\n",
    "        dump(self.svm_model, f\"models/svm_model_{sufix}.joblib\")\n",
    "        dump(self.knn_model, f\"models/knn_model_{sufix}.joblib\")\n",
    "        dump(self.dt_model, f\"models/dt_model_{sufix}.joblib\")\n",
    "        dump(self.sgdc_model, f\"models/sdgc_model_{sufix}.joblib\")\n",
    "        dump(self.ada_model, f\"models/ada_model_{sufix}.joblib\")\n",
    "    \n",
    "    def predict(self, X_val):\n",
    "        predictions = []\n",
    "        predictions.append((\"knn\",self.knn_model.predict(X_val)))\n",
    "        predictions.append((\"dt\",self.dt_model.predict(X_val)))\n",
    "        predictions.append((\"svm\",self.svm_model.predict(X_val)))\n",
    "        predictions.append((\"rf\",self.rf_model.predict(X_val)))\n",
    "        predictions.append((\"sgdc\",self.sgdc_model.predict(X_val)))\n",
    "        predictions.append((\"ada\",self.ada_model.predict(X_val)))\n",
    "        \n",
    "        return predictions\n",
    "\n",
    "    def get_metrics(self, X_val,y_true):\n",
    "        predictions = self.predict(X_val)\n",
    "        for name, y_pred in predictions:\n",
    "            acc_value = accuracy_score(y_pred=y_pred, y_true=y_true) \n",
    "            recall_value = recall_score(y_pred=y_pred, y_true=y_true)\n",
    "            precision_value = precision_score(y_pred=y_pred, y_true=y_true) \n",
    "            f1_value = f1_score(y_pred=y_pred, y_true=y_true)\n",
    "            mcc_value = matthews_corrcoef(y_pred=y_pred, y_true=y_true)\n",
    "            cm = confusion_matrix(y_pred=y_pred, y_true=y_true)\n",
    "            print(f\"{name} - acc: {acc_value}, recall: {recall_value}, precision: {precision_value}, f1: {f1_value}, mcc: {mcc_value}\")\n",
    "            print(f\"{cm}\\n\")\n",
    "    \n",
    "        #return pd.DataFrame(\n",
    "        #    [[self.scaler, self.algorithm, acc_value, recall_value, precision_value, f1_value, mcc_value, cm]],\n",
    "        #    columns=[\"scaler\", \"algorithm\", \"acc\", \"recall\", \"precision\", \"f1\", \"mcc\", \"cm\"]\n",
    "        #)"
   ]
  },
  {
   "cell_type": "code",
   "execution_count": 22,
   "id": "5d247043",
   "metadata": {},
   "outputs": [],
   "source": [
    "model_instance = Models()"
   ]
  },
  {
   "cell_type": "code",
   "execution_count": 23,
   "id": "d99a1f4f",
   "metadata": {},
   "outputs": [
    {
     "name": "stderr",
     "output_type": "stream",
     "text": [
      "/home/diego/miniconda3/envs/pandas-env/lib/python3.12/site-packages/sklearn/neighbors/_classification.py:238: DataConversionWarning: A column-vector y was passed when a 1d array was expected. Please change the shape of y to (n_samples,), for example using ravel().\n",
      "  return self._fit(X, y)\n",
      "/home/diego/miniconda3/envs/pandas-env/lib/python3.12/site-packages/sklearn/utils/validation.py:1339: DataConversionWarning: A column-vector y was passed when a 1d array was expected. Please change the shape of y to (n_samples, ), for example using ravel().\n",
      "  y = column_or_1d(y, warn=True)\n",
      "/home/diego/miniconda3/envs/pandas-env/lib/python3.12/site-packages/sklearn/base.py:1473: DataConversionWarning: A column-vector y was passed when a 1d array was expected. Please change the shape of y to (n_samples,), for example using ravel().\n",
      "  return fit_method(estimator, *args, **kwargs)\n",
      "/home/diego/miniconda3/envs/pandas-env/lib/python3.12/site-packages/sklearn/utils/validation.py:1339: DataConversionWarning: A column-vector y was passed when a 1d array was expected. Please change the shape of y to (n_samples, ), for example using ravel().\n",
      "  y = column_or_1d(y, warn=True)\n",
      "/home/diego/miniconda3/envs/pandas-env/lib/python3.12/site-packages/sklearn/utils/validation.py:1339: DataConversionWarning: A column-vector y was passed when a 1d array was expected. Please change the shape of y to (n_samples, ), for example using ravel().\n",
      "  y = column_or_1d(y, warn=True)\n",
      "/home/diego/miniconda3/envs/pandas-env/lib/python3.12/site-packages/sklearn/ensemble/_weight_boosting.py:527: FutureWarning: The SAMME.R algorithm (the default) is deprecated and will be removed in 1.6. Use the SAMME algorithm to circumvent this warning.\n",
      "  warnings.warn(\n"
     ]
    }
   ],
   "source": [
    "model_instance.train_all(df, response)"
   ]
  },
  {
   "cell_type": "code",
   "execution_count": 24,
   "id": "722a9d36",
   "metadata": {},
   "outputs": [
    {
     "name": "stdout",
     "output_type": "stream",
     "text": [
      "knn - acc: 0.7887323943661971, recall: 0.7244897959183674, precision: 0.797752808988764, f1: 0.7593582887700535, mcc: 0.5739578806327564\n",
      "[[97 18]\n",
      " [27 71]]\n",
      "\n",
      "dt - acc: 1.0, recall: 1.0, precision: 1.0, f1: 1.0, mcc: 1.0\n",
      "[[115   0]\n",
      " [  0  98]]\n",
      "\n",
      "svm - acc: 0.9154929577464789, recall: 0.8979591836734694, precision: 0.9166666666666666, f1: 0.9072164948453608, mcc: 0.8297940905174076\n",
      "[[107   8]\n",
      " [ 10  88]]\n",
      "\n",
      "rf - acc: 1.0, recall: 1.0, precision: 1.0, f1: 1.0, mcc: 1.0\n",
      "[[115   0]\n",
      " [  0  98]]\n",
      "\n",
      "sgdc - acc: 0.8497652582159625, recall: 0.9183673469387755, precision: 0.7894736842105263, f1: 0.8490566037735849, mcc: 0.7091684706670041\n",
      "[[91 24]\n",
      " [ 8 90]]\n",
      "\n",
      "ada - acc: 0.8544600938967136, recall: 0.8469387755102041, precision: 0.8383838383838383, f1: 0.8426395939086294, mcc: 0.7073064379233173\n",
      "[[99 16]\n",
      " [15 83]]\n",
      "\n"
     ]
    }
   ],
   "source": [
    "model_instance.get_metrics(X_val, y_val)"
   ]
  },
  {
   "cell_type": "code",
   "execution_count": 27,
   "id": "e1611f7f",
   "metadata": {},
   "outputs": [
    {
     "name": "stdout",
     "output_type": "stream",
     "text": [
      "Cross-validation scores for RandomForestClassifier: [0.52742616 0.62869198 0.59322034 0.52966102 0.61864407]\n",
      "Mean cross-validation score: 0.5795287134377458\n",
      "Top 10 important features:\n",
      "      Feature  Importance\n",
      "632     palb2    0.016306\n",
      "636      cdh1    0.007198\n",
      "1092   hsd3b2    0.006508\n",
      "823     mapk1    0.006201\n",
      "1078     hes6    0.005730\n",
      "635       atm    0.005715\n",
      "964      ctcf    0.005186\n",
      "781      dph1    0.005081\n",
      "640     stk11    0.004900\n",
      "810   izumo1r    0.004686\n"
     ]
    }
   ],
   "source": [
    "# Perform cross-validation on the RandomForestClassifier\n",
    "rf_model = model_instance.rf_model\n",
    "cv_scores = cross_val_score(rf_model, df, response.values.ravel(), cv=5)\n",
    "\n",
    "# Print the cross-validation scores\n",
    "print(\"Cross-validation scores for RandomForestClassifier:\", cv_scores)\n",
    "print(\"Mean cross-validation score:\", np.mean(cv_scores))\n",
    "\n",
    "# Analyze feature importance\n",
    "feature_importances = rf_model.feature_importances_\n",
    "importance_df = pd.DataFrame({\n",
    "    'Feature': df.columns,\n",
    "    'Importance': feature_importances\n",
    "}).sort_values(by='Importance', ascending=False)\n",
    "\n",
    "print(\"Top 10 important features:\")\n",
    "print(importance_df.head(10))"
   ]
  }
 ],
 "metadata": {
  "kernelspec": {
   "display_name": "Python 3 (ipykernel)",
   "language": "python",
   "name": "python3"
  },
  "language_info": {
   "codemirror_mode": {
    "name": "ipython",
    "version": 3
   },
   "file_extension": ".py",
   "mimetype": "text/x-python",
   "name": "python",
   "nbconvert_exporter": "python",
   "pygments_lexer": "ipython3",
   "version": "3.12.4"
  }
 },
 "nbformat": 4,
 "nbformat_minor": 5
}
