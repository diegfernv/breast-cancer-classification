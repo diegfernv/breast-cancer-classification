{
 "cells": [
  {
   "cell_type": "code",
   "execution_count": 1,
   "id": "8a88eed5-bd8c-443a-9575-066122fb8090",
   "metadata": {},
   "outputs": [],
   "source": [
    "import pandas as pd\n",
    "import numpy as np\n",
    "from joblib import load, dump\n",
    "\n",
    "from sklearn.neighbors import KNeighborsClassifier\n",
    "from sklearn.tree import DecisionTreeClassifier\n",
    "from sklearn.svm import SVC\n",
    "from sklearn.ensemble import RandomForestClassifier, AdaBoostClassifier\n",
    "from sklearn.linear_model import SGDClassifier\n"
   ]
  },
  {
   "cell_type": "code",
   "execution_count": 2,
   "id": "9d178413-f283-4993-a655-6583dc7a9b00",
   "metadata": {},
   "outputs": [],
   "source": [
    "class Models():\n",
    "    knn_model = KNeighborsClassifier()\n",
    "    dt_model = DecisionTreeClassifier()\n",
    "    svm_model = SVC()\n",
    "    rf_model = RandomForestClassifier()\n",
    "    sgdc_model = SGDClassifier()\n",
    "    ada_model = AdaBoostClassifier()\n",
    "    \n",
    "    def train_all(self, data, response):\n",
    "        self.knn_model.fit(X=data, y=response)\n",
    "        self.dt_model.fit(X=data, y=response)\n",
    "        self.svm_model.fit(X=data, y=response)\n",
    "        self.rf_model.fit(X=data, y=response)\n",
    "        self.sgdc_model.fit(X=data, y=response)\n",
    "        self.ada_model.fit(X=data, y=response)\n",
    "\n",
    "    def save(self, sufix):\n",
    "        dump(self.rf_model, f\"results/rf_model_{sufix}.joblib\")\n",
    "        dump(self.svm_model, f\"results/svm_model_{sufix}.joblib\")\n",
    "        dump(self.knn_model, f\"results/knn_model_{sufix}.joblib\")\n",
    "        dump(self.dt_model, f\"results/dt_model_{sufix}.joblib\")\n",
    "        dump(self.sgdc_model, f\"results/sdgc_model_{sufix}.joblib\")\n",
    "        dump(self.ada_model, f\"results/ada_model_{sufix}.joblib\")\n",
    "    "
   ]
  },
  {
   "cell_type": "code",
   "execution_count": 7,
   "id": "351ba350-675b-4243-93c6-22ccb480e3b9",
   "metadata": {},
   "outputs": [],
   "source": [
    "scalers = [\"std\", \"minmax\", \"robust\"]"
   ]
  },
  {
   "cell_type": "code",
   "execution_count": 8,
   "id": "76a8e93c-9fca-44e0-a7b0-684c85d55c82",
   "metadata": {},
   "outputs": [],
   "source": [
    "df_data = []\n",
    "for s in scalers:\n",
    "    df_data.append(pd.read_csv(f\"data_separated/train_data_{s}.csv\"))\n",
    "response = pd.read_csv(\"data_separated/y_train.csv\")"
   ]
  },
  {
   "cell_type": "code",
   "execution_count": 9,
   "id": "8b72d9b3-b64c-4a04-9702-c5df12d72795",
   "metadata": {},
   "outputs": [],
   "source": [
    "model_instance = Models()"
   ]
  },
  {
   "cell_type": "code",
   "execution_count": 10,
   "id": "1b27c5c0-9055-4262-965f-68f48e494f1c",
   "metadata": {},
   "outputs": [
    {
     "name": "stderr",
     "output_type": "stream",
     "text": [
      "/home/diego/miniconda3/envs/pandas-env/lib/python3.12/site-packages/sklearn/neighbors/_classification.py:238: DataConversionWarning: A column-vector y was passed when a 1d array was expected. Please change the shape of y to (n_samples,), for example using ravel().\n",
      "  return self._fit(X, y)\n",
      "/home/diego/miniconda3/envs/pandas-env/lib/python3.12/site-packages/sklearn/utils/validation.py:1339: DataConversionWarning: A column-vector y was passed when a 1d array was expected. Please change the shape of y to (n_samples, ), for example using ravel().\n",
      "  y = column_or_1d(y, warn=True)\n",
      "/home/diego/miniconda3/envs/pandas-env/lib/python3.12/site-packages/sklearn/base.py:1473: DataConversionWarning: A column-vector y was passed when a 1d array was expected. Please change the shape of y to (n_samples,), for example using ravel().\n",
      "  return fit_method(estimator, *args, **kwargs)\n",
      "/home/diego/miniconda3/envs/pandas-env/lib/python3.12/site-packages/sklearn/utils/validation.py:1339: DataConversionWarning: A column-vector y was passed when a 1d array was expected. Please change the shape of y to (n_samples, ), for example using ravel().\n",
      "  y = column_or_1d(y, warn=True)\n",
      "/home/diego/miniconda3/envs/pandas-env/lib/python3.12/site-packages/sklearn/utils/validation.py:1339: DataConversionWarning: A column-vector y was passed when a 1d array was expected. Please change the shape of y to (n_samples, ), for example using ravel().\n",
      "  y = column_or_1d(y, warn=True)\n",
      "/home/diego/miniconda3/envs/pandas-env/lib/python3.12/site-packages/sklearn/ensemble/_weight_boosting.py:527: FutureWarning: The SAMME.R algorithm (the default) is deprecated and will be removed in 1.6. Use the SAMME algorithm to circumvent this warning.\n",
      "  warnings.warn(\n",
      "/home/diego/miniconda3/envs/pandas-env/lib/python3.12/site-packages/sklearn/neighbors/_classification.py:238: DataConversionWarning: A column-vector y was passed when a 1d array was expected. Please change the shape of y to (n_samples,), for example using ravel().\n",
      "  return self._fit(X, y)\n",
      "/home/diego/miniconda3/envs/pandas-env/lib/python3.12/site-packages/sklearn/utils/validation.py:1339: DataConversionWarning: A column-vector y was passed when a 1d array was expected. Please change the shape of y to (n_samples, ), for example using ravel().\n",
      "  y = column_or_1d(y, warn=True)\n",
      "/home/diego/miniconda3/envs/pandas-env/lib/python3.12/site-packages/sklearn/base.py:1473: DataConversionWarning: A column-vector y was passed when a 1d array was expected. Please change the shape of y to (n_samples,), for example using ravel().\n",
      "  return fit_method(estimator, *args, **kwargs)\n",
      "/home/diego/miniconda3/envs/pandas-env/lib/python3.12/site-packages/sklearn/utils/validation.py:1339: DataConversionWarning: A column-vector y was passed when a 1d array was expected. Please change the shape of y to (n_samples, ), for example using ravel().\n",
      "  y = column_or_1d(y, warn=True)\n",
      "/home/diego/miniconda3/envs/pandas-env/lib/python3.12/site-packages/sklearn/utils/validation.py:1339: DataConversionWarning: A column-vector y was passed when a 1d array was expected. Please change the shape of y to (n_samples, ), for example using ravel().\n",
      "  y = column_or_1d(y, warn=True)\n",
      "/home/diego/miniconda3/envs/pandas-env/lib/python3.12/site-packages/sklearn/ensemble/_weight_boosting.py:527: FutureWarning: The SAMME.R algorithm (the default) is deprecated and will be removed in 1.6. Use the SAMME algorithm to circumvent this warning.\n",
      "  warnings.warn(\n"
     ]
    }
   ],
   "source": [
    "for i,s in enumerate(scalers):\n",
    "    model_instance.train_all(df_data[i], response)\n",
    "    model_instance.save(s)"
   ]
  }
 ],
 "metadata": {
  "kernelspec": {
   "display_name": "Python 3 (ipykernel)",
   "language": "python",
   "name": "python3"
  },
  "language_info": {
   "codemirror_mode": {
    "name": "ipython",
    "version": 3
   },
   "file_extension": ".py",
   "mimetype": "text/x-python",
   "name": "python",
   "nbconvert_exporter": "python",
   "pygments_lexer": "ipython3",
   "version": "3.12.4"
  }
 },
 "nbformat": 4,
 "nbformat_minor": 5
}
