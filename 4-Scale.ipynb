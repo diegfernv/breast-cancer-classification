{
 "cells": [
  {
   "cell_type": "code",
   "execution_count": 1,
   "metadata": {},
   "outputs": [],
   "source": [
    "import os\n",
    "import pandas as pd\n",
    "import numpy as np\n",
    "import pickle\n",
    "from sklearn import set_config\n",
    "from sklearn.preprocessing import StandardScaler, MinMaxScaler, RobustScaler\n",
    "from sklearn.preprocessing import OrdinalEncoder, OneHotEncoder\n",
    "from sklearn.impute import SimpleImputer\n",
    "from sklearn.pipeline import Pipeline\n",
    "from sklearn.compose import ColumnTransformer\n",
    "from joblib import dump, load"
   ]
  },
  {
   "cell_type": "code",
   "execution_count": 2,
   "metadata": {},
   "outputs": [],
   "source": [
    "clinical_attributes = pd.read_csv('step_03/clinical_attributes.csv').drop(columns=[\"patient_id\"])\n",
    "mutation = pd.read_csv('step_03/mutation.csv').drop(columns=[\"patient_id\"])\n",
    "z_score = pd.read_csv('step_03/z_score.csv').drop(columns=[\"patient_id\"])\n",
    "response = pd.read_csv('step_03/response.csv').drop(columns=[\"patient_id\"])"
   ]
  },
  {
   "cell_type": "code",
   "execution_count": 3,
   "metadata": {},
   "outputs": [],
   "source": [
    "ca_columns = clinical_attributes.columns[1:]\n",
    "mutation_columns = mutation.columns[1:]\n",
    "z_score_columns = z_score.columns[1:]\n",
    "ordinal_columns = [\"cellularity\", \"integrative_cluster\"]\n",
    "one_hot_columns = [\"type_of_breast_surgery\", \"cancer_type\", \"cancer_type_detailed\", \"pam50_+_claudin-low_subtype\", \"er_status_measured_by_ihc\", \"er_status\", \"her2_status_measured_by_snp6\", \"her2_status\", \"tumor_other_histologic_subtype\", \"inferred_menopausal_state\", \"primary_tumor_laterality\", \"oncotree_code\", \"pr_status\", \"3-gene_classifier_subtype\"]"
   ]
  },
  {
   "cell_type": "markdown",
   "metadata": {},
   "source": [
    "## Encoding\n",
    "\n",
    "Se hace uso de de encoding y estandarizacion para ciertos atributos:\n",
    "- **Atributos clinicos:** Encoding + Estandarizacion\n",
    "- **mRNA z-score:** Nada\n",
    "- **Mutaciones:** One-Hot + Estandarización"
   ]
  },
  {
   "cell_type": "markdown",
   "metadata": {},
   "source": [
    "Cuando usar:\n",
    "- **Ordinal encoding:** Los datos tienen un orden con sentido como 'low', 'medium', 'high' o 'primero', 'segundo', 'tercero'\n",
    "- **One-Hot encoding:** cuando los datos no tienen un orden entre categorias, ejemplo: 'rojo', 'verde', 'azul'"
   ]
  },
  {
   "cell_type": "markdown",
   "metadata": {},
   "source": [
    "Importante: Dado que los clinical attributes deben ser procesados con un scaler, las mutaciones con ordinal encoder + scaler y hay data sin tocar, entonces se utilizará: Sklearn.compose.ColumnTransformer\n",
    "https://scikit-learn.org/stable/modules/generated/sklearn.compose.ColumnTransformer.html\n",
    "\n",
    "¿Por qué escalar?\n",
    "- En algoritmos basados en árboles (RF, DT, GBM) no es necesario escalar ya que no son suceptibles al este cambio.\n",
    "- En algoritmos basados en distancias (KNN, SVM, Logistic Regression) se benefician de las métricas de distancias, por ello se recomienda escalar\n",
    "\n",
    "https://www.csie.ntu.edu.tw/~cjlin/papers/guide/guide.pdf"
   ]
  },
  {
   "cell_type": "markdown",
   "metadata": {},
   "source": [
    "### Clinical"
   ]
  },
  {
   "cell_type": "code",
   "execution_count": 4,
   "metadata": {},
   "outputs": [],
   "source": [
    "ordinal_columns = [\"cellularity\", \"integrative_cluster\"]\n",
    "one_hot_columns = [\"type_of_breast_surgery\", \"cancer_type\", \"cancer_type_detailed\", \"pam50_+_claudin-low_subtype\", \"er_status_measured_by_ihc\", \"er_status\", \"her2_status_measured_by_snp6\", \"her2_status\", \"tumor_other_histologic_subtype\", \"inferred_menopausal_state\", \"primary_tumor_laterality\", \"oncotree_code\", \"pr_status\", \"3-gene_classifier_subtype\"]\n",
    "\n",
    "onehot_encoder = OneHotEncoder()\n",
    "ordinal_encoder = OrdinalEncoder()\n",
    "\n",
    "preprocessor = ColumnTransformer(\n",
    "    transformers=[\n",
    "        ('onehot', onehot_encoder, one_hot_columns),\n",
    "        ('ordinal', ordinal_encoder, ordinal_columns)\n",
    "    ],\n",
    "    remainder='passthrough'\n",
    ")\n",
    "\n",
    "preprocessor.fit(clinical_attributes)\n",
    "\n",
    "export_ca = preprocessor.transform(clinical_attributes)"
   ]
  },
  {
   "cell_type": "code",
   "execution_count": 5,
   "metadata": {},
   "outputs": [],
   "source": [
    "std_scaler = RobustScaler()\n",
    "\n",
    "std_scaler.fit(export_ca)\n",
    "\n",
    "std_export_ca = std_scaler.transform(export_ca)"
   ]
  },
  {
   "cell_type": "code",
   "execution_count": 6,
   "metadata": {},
   "outputs": [],
   "source": [
    "export_df = pd.DataFrame(std_export_ca)\n",
    "export_df.to_csv('step_04/clinical_attributes.csv', index=False)"
   ]
  },
  {
   "cell_type": "markdown",
   "metadata": {},
   "source": [
    "### Z-Score"
   ]
  },
  {
   "cell_type": "code",
   "execution_count": 7,
   "metadata": {},
   "outputs": [],
   "source": [
    "z_score.to_csv('step_04/z_score.csv', index=False)"
   ]
  },
  {
   "cell_type": "markdown",
   "metadata": {},
   "source": [
    "### Mutation"
   ]
  },
  {
   "cell_type": "code",
   "execution_count": 8,
   "metadata": {},
   "outputs": [],
   "source": [
    "mut_columns = mutation.columns[1:-1]\n",
    "\n",
    "onehot_encoder = OneHotEncoder(sparse_output=False)\n",
    "\n",
    "\n",
    "preprocessor = ColumnTransformer(\n",
    "    transformers=[\n",
    "        ('onehot', onehot_encoder, mut_columns)\n",
    "    ],\n",
    "    remainder='passthrough'\n",
    ")\n",
    "\n",
    "onehot_encoder.fit(mutation)\n",
    "\n",
    "export_mut = onehot_encoder.transform(mutation)"
   ]
  },
  {
   "cell_type": "code",
   "execution_count": 9,
   "metadata": {},
   "outputs": [],
   "source": [
    "std_scaler = RobustScaler()\n",
    "\n",
    "std_scaler.fit(export_mut)\n",
    "\n",
    "std_export_mut = std_scaler.transform(export_mut)"
   ]
  },
  {
   "cell_type": "code",
   "execution_count": 10,
   "metadata": {},
   "outputs": [],
   "source": [
    "export_df = pd.DataFrame(std_export_mut)\n",
    "export_df.to_csv('step_04/mutation.csv', index=False)"
   ]
  },
  {
   "cell_type": "code",
   "execution_count": 11,
   "metadata": {},
   "outputs": [],
   "source": [
    "response[\"overall_survival\"].to_csv('step_04/response.csv', index=False)"
   ]
  }
 ],
 "metadata": {
  "kernelspec": {
   "display_name": "pandas-env",
   "language": "python",
   "name": "python3"
  },
  "language_info": {
   "codemirror_mode": {
    "name": "ipython",
    "version": 3
   },
   "file_extension": ".py",
   "mimetype": "text/x-python",
   "name": "python",
   "nbconvert_exporter": "python",
   "pygments_lexer": "ipython3",
   "version": "3.12.4"
  }
 },
 "nbformat": 4,
 "nbformat_minor": 2
}
