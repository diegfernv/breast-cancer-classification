{
 "cells": [
  {
   "cell_type": "code",
   "execution_count": null,
   "metadata": {},
   "outputs": [],
   "source": [
    "import pandas as pd\n",
    "import numpy as np\n",
    "\n",
    "from sklearn.model_selection import train_test_split"
   ]
  },
  {
   "cell_type": "code",
   "execution_count": null,
   "metadata": {},
   "outputs": [],
   "source": [
    "clinical_attributes = pd.read_csv('step_04/clinical_attributes.csv')\n",
    "z_score = pd.read_csv('step_04/z_score.csv')\n",
    "mutation = pd.read_csv('step_04/mutation.csv')\n",
    "response = pd.read_csv('step_04/response.csv')"
   ]
  },
  {
   "cell_type": "code",
   "execution_count": null,
   "metadata": {},
   "outputs": [],
   "source": [
    "y = response['overall_survival'].to_numpy()\n",
    "datasets = [\n",
    "    (\"clinical\", clinical_attributes.to_numpy()),\n",
    "    (\"z_score\", z_score.to_numpy()),\n",
    "    (\"mutation\", mutation.to_numpy())\n",
    "]"
   ]
  },
  {
   "cell_type": "markdown",
   "metadata": {},
   "source": [
    "# Teapot"
   ]
  },
  {
   "cell_type": "code",
   "execution_count": null,
   "metadata": {},
   "outputs": [
    {
     "name": "stderr",
     "output_type": "stream",
     "text": [
      "/home/diego/miniconda3/envs/pandas-env/lib/python3.12/site-packages/tpot/builtins/__init__.py:36: UserWarning: Warning: optional dependency `torch` is not available. - skipping import of NN models.\n",
      "  warnings.warn(\"Warning: optional dependency `torch` is not available. - skipping import of NN models.\")\n"
     ]
    }
   ],
   "source": [
    "from tpot import TPOTClassifier"
   ]
  },
  {
   "cell_type": "code",
   "execution_count": null,
   "metadata": {},
   "outputs": [],
   "source": [
    "seed = 42\n",
    "generations = 5"
   ]
  },
  {
   "cell_type": "code",
   "execution_count": null,
   "metadata": {},
   "outputs": [],
   "source": [
    "X_clinical_train, X_clinical_test, y_train, y_test = train_test_split(clinical_attributes, response, test_size=0.2, random_state=seed)\n",
    "\n",
    "X_mutation_train, X_mutation_test, _, _ = train_test_split(mutation, response, test_size=0.2, random_state=seed)\n",
    "\n",
    "X_z_score_train, X_z_score_test, _, _ = train_test_split(z_score, response, test_size=0.2, random_state=seed)"
   ]
  },
  {
   "cell_type": "code",
   "execution_count": null,
   "metadata": {},
   "outputs": [
    {
     "name": "stderr",
     "output_type": "stream",
     "text": [
      "/home/diego/miniconda3/envs/pandas-env/lib/python3.12/site-packages/sklearn/utils/validation.py:1339: DataConversionWarning: A column-vector y was passed when a 1d array was expected. Please change the shape of y to (n_samples, ), for example using ravel().\n",
      "  y = column_or_1d(y, warn=True)\n"
     ]
    },
    {
     "name": "stdout",
     "output_type": "stream",
     "text": [
      "                                                                             \n",
      "Generation 1 - Current best internal CV score: 0.6825396825396826\n",
      "                                                                             \n",
      "Generation 2 - Current best internal CV score: 0.6899470899470899\n",
      "                                                                             \n",
      "Generation 3 - Current best internal CV score: 0.6899470899470899\n",
      "                                                                              \n",
      "Generation 4 - Current best internal CV score: 0.692063492063492\n",
      "                                                                              \n",
      "Generation 5 - Current best internal CV score: 0.6962962962962963\n",
      "                                                                              \n",
      "Best pipeline: RandomForestClassifier(input_matrix, bootstrap=True, criterion=entropy, max_features=0.4, min_samples_leaf=13, min_samples_split=7, n_estimators=100)\n",
      "0.6835443037974683\n"
     ]
    }
   ],
   "source": [
    "tpot = TPOTClassifier(generations=generations, population_size=20, verbosity=2, random_state=42)\n",
    "tpot.fit(X_clinical_train, np.squeeze(y_train))\n",
    "print(tpot.score(X_clinical_test, np.squeeze(y_test)))\n",
    "tpot.export('step_07/tpot_clinical_pipeline.py')"
   ]
  },
  {
   "cell_type": "code",
   "execution_count": null,
   "metadata": {},
   "outputs": [
    {
     "name": "stdout",
     "output_type": "stream",
     "text": [
      "                                                                             \n",
      "                                                                             \n",
      "TPOT closed during evaluation in one generation.\n",
      "WARNING: TPOT may not provide a good pipeline if TPOT is stopped/interrupted in a early generation.\n",
      "                                                                             \n",
      "                                                                             \n",
      "TPOT closed prematurely. Will use the current best pipeline.\n",
      "                                                                             \n",
      "Best pipeline: ExtraTreesClassifier(input_matrix, bootstrap=True, criterion=entropy, max_features=0.8, min_samples_leaf=19, min_samples_split=5, n_estimators=100)\n",
      "0.5991561181434599\n"
     ]
    }
   ],
   "source": [
    "tpot = TPOTClassifier(generations=generations, population_size=20, verbosity=2, random_state=42)\n",
    "tpot.fit(X_mutation_train, np.squeeze(y_train))\n",
    "print(tpot.score(X_mutation_test, np.squeeze(y_test)))\n",
    "tpot.export('step_07/tpot_mutation_pipeline.py')"
   ]
  },
  {
   "cell_type": "code",
   "execution_count": null,
   "metadata": {},
   "outputs": [
    {
     "name": "stdout",
     "output_type": "stream",
     "text": [
      "                                                                             \n",
      "Generation 1 - Current best internal CV score: 0.6338624338624339\n",
      "                                                                             \n",
      "Generation 2 - Current best internal CV score: 0.6338624338624339\n",
      "                                                                             \n",
      "Generation 3 - Current best internal CV score: 0.6338624338624339\n",
      "                                                                              \n",
      "Generation 4 - Current best internal CV score: 0.6380952380952382\n",
      "                                                                              \n",
      "Generation 5 - Current best internal CV score: 0.6380952380952382\n",
      "                                                                              \n",
      "Best pipeline: MLPClassifier(input_matrix, alpha=0.0001, learning_rate_init=0.001)\n",
      "0.620253164556962\n"
     ]
    }
   ],
   "source": [
    "tpot = TPOTClassifier(generations=generations, population_size=20, verbosity=2, random_state=42)\n",
    "tpot.fit(X_z_score_train, np.squeeze(y_train))\n",
    "print(tpot.score(X_z_score_test, np.squeeze(y_test)))\n",
    "tpot.export('step_07/tpot_z_score_pipeline.py')"
   ]
  }
 ],
 "metadata": {
  "kernelspec": {
   "display_name": "pandas-env",
   "language": "python",
   "name": "python3"
  },
  "language_info": {
   "name": "python",
   "version": "3.12.4"
  }
 },
 "nbformat": 4,
 "nbformat_minor": 2
}
