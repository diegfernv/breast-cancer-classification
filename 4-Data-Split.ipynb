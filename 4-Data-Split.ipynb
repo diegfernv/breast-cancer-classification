{
 "cells": [
  {
   "cell_type": "code",
   "execution_count": null,
   "id": "b1db6424",
   "metadata": {},
   "outputs": [],
   "source": [
    "import os\n",
    "import pandas as pd\n",
    "import seaborn as sns\n",
    "import matplotlib as plt\n",
    "from sklearn.model_selection import train_test_split\n",
    "from sklearn.utils import resample\n",
    "import numpy as np"
   ]
  },
  {
   "cell_type": "markdown",
   "id": "13327e27",
   "metadata": {},
   "source": [
    "## Separación en ( train (80) + val (20) )[90] + test [10]"
   ]
  },
  {
   "cell_type": "code",
   "execution_count": 24,
   "id": "3b0b6cd7-1232-4e0f-bcd7-ed41233c7a43",
   "metadata": {},
   "outputs": [],
   "source": [
    "X_train, X_test, y_train, y_test = train_test_split(export_df, response, test_size=0.1, random_state=42)\n",
    "X_train, X_val, y_train, y_val = train_test_split(X_train, y_train, test_size=0.2, random_state=42)"
   ]
  },
  {
   "cell_type": "code",
   "execution_count": 25,
   "id": "197910fc-85c3-4b4c-addb-3117282f2b06",
   "metadata": {},
   "outputs": [],
   "source": [
    "if not os.path.exists(\"data_separated\"):\n",
    "    os.mkdir(\"data_separated\")\n",
    "\n",
    "X_train.to_csv(\"data_separated/train_data.csv\", index=False)\n",
    "X_val.to_csv(\"data_separated/val_data.csv\", index=False)\n",
    "X_test.to_csv(\"data_separated/test_data.csv\", index=False)\n",
    "y_train.to_csv(\"data_separated/y_train.csv\", index=False)\n",
    "y_val.to_csv(\"data_separated/y_val.csv\", index=False)\n",
    "y_test.to_csv(\"data_separated/y_test.csv\", index=False)"
   ]
  }
 ],
 "metadata": {
  "kernelspec": {
   "display_name": "Python 3 (ipykernel)",
   "language": "python",
   "name": "python3"
  },
  "language_info": {
   "codemirror_mode": {
    "name": "ipython",
    "version": 3
   },
   "file_extension": ".py",
   "mimetype": "text/x-python",
   "name": "python",
   "nbconvert_exporter": "python",
   "pygments_lexer": "ipython3",
   "version": "3.12.4"
  }
 },
 "nbformat": 4,
 "nbformat_minor": 5
}
